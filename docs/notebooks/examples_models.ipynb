{
 "cells": [
  {
   "cell_type": "markdown",
   "id": "f1670539-95be-4bab-b9fe-1f63f4675915",
   "metadata": {},
   "source": [
    "# How to run a model using `fowt_ml` and calculate scores"
   ]
  },
  {
   "cell_type": "markdown",
   "id": "2d6f75b9-f730-4217-a524-362b96e4feb7",
   "metadata": {},
   "source": [
    "## Data preparation (common for any type of model)"
   ]
  },
  {
   "cell_type": "code",
   "execution_count": 1,
   "id": "a2cfe7cb-2ce5-4564-8b62-6b321ef36022",
   "metadata": {},
   "outputs": [],
   "source": [
    "from fowt_ml.datasets import get_data, fix_column_names\n",
    "from fowt_ml import Config\n",
    "from sklearn.model_selection import train_test_split"
   ]
  },
  {
   "cell_type": "code",
   "execution_count": 2,
   "id": "9668aa7e-d4b0-4029-8f51-2600484cbe99",
   "metadata": {},
   "outputs": [],
   "source": [
    "example_config_file = \"../../src/example_config.yml\""
   ]
  },
  {
   "cell_type": "code",
   "execution_count": 3,
   "id": "336fe93e-1c1d-4139-8bba-d9bf40ff85bf",
   "metadata": {},
   "outputs": [],
   "source": [
    "config = Config.from_yaml(example_config_file)\n",
    "config[\"data\"][\"exp699\"][\"path_file\"] = \"/home/sarah/temp/hybridlabs/data_example/exp699.mat\"\n",
    "df = get_data(\"exp699\", config[\"data\"])"
   ]
  },
  {
   "cell_type": "code",
   "execution_count": 4,
   "id": "0c8ddfa5-131c-418e-94d2-52e01a7a517f",
   "metadata": {},
   "outputs": [],
   "source": [
    "# train/test split\n",
    "predictors_labels = config[\"ml_setup\"][\"predictors\"]\n",
    "target_labels = config[\"ml_setup\"][\"targets\"]\n",
    "\n",
    "# rename the column names to exclude []\n",
    "X_data = df.loc[:, predictors_labels]\n",
    "Y_data = df.loc[:, target_labels]\n",
    "\n",
    "X_data, Y_data = fix_column_names(X_data), fix_column_names(Y_data)\n",
    "train_test_split_kwargs = config[\"ml_setup\"][\"train_test_split_kwargs\"]\n",
    "X_train, X_test, y_train, y_test = train_test_split(X_data, Y_data, **train_test_split_kwargs)"
   ]
  },
  {
   "cell_type": "code",
   "execution_count": 5,
   "id": "3e6ba3b9-9dc6-46ac-89de-00c50c41d150",
   "metadata": {},
   "outputs": [
    {
     "data": {
      "text/plain": [
       "['neg_mean_absolute_error',\n",
       " 'neg_root_mean_squared_error',\n",
       " 'r2',\n",
       " 'model_fit_time',\n",
       " 'model_predict_time']"
      ]
     },
     "execution_count": 5,
     "metadata": {},
     "output_type": "execute_result"
    }
   ],
   "source": [
    "metrics = config[\"ml_setup\"][\"metric_names\"]\n",
    "metrics"
   ]
  },
  {
   "cell_type": "markdown",
   "id": "662a9b61-ab4b-4f67-b5e2-ca5db7187b7c",
   "metadata": {},
   "source": [
    "## Linear models "
   ]
  },
  {
   "cell_type": "code",
   "execution_count": 6,
   "id": "1f15df9a-4255-4550-81e9-7e36459d4ef5",
   "metadata": {},
   "outputs": [
    {
     "data": {
      "text/plain": [
       "{'LinearRegression': sklearn.linear_model._base.LinearRegression,\n",
       " 'RidgeRegression': sklearn.linear_model._ridge.Ridge,\n",
       " 'LassoRegression': sklearn.linear_model._coordinate_descent.Lasso,\n",
       " 'ElasticNetRegression': sklearn.linear_model._coordinate_descent.ElasticNet,\n",
       " 'LeastAngleRegression': sklearn.linear_model._least_angle.Lars}"
      ]
     },
     "execution_count": 6,
     "metadata": {},
     "output_type": "execute_result"
    }
   ],
   "source": [
    "from fowt_ml import LinearModels\n",
    "LinearModels.ESTIMATOR_NAMES"
   ]
  },
  {
   "cell_type": "code",
   "execution_count": 7,
   "id": "f2cb3270-a67c-4824-8dd6-af122aeec17a",
   "metadata": {},
   "outputs": [
    {
     "data": {
      "text/plain": [
       "{'neg_mean_absolute_error': -1.603052611245188,\n",
       " 'neg_root_mean_squared_error': -2.1309153094889486,\n",
       " 'r2': 0.10732388900915783,\n",
       " 'model_fit_time': np.float64(0.096),\n",
       " 'model_predict_time': np.float64(0.001)}"
      ]
     },
     "execution_count": 7,
     "metadata": {},
     "output_type": "execute_result"
    }
   ],
   "source": [
    "# calculate metrics\n",
    "model_name = \"LeastAngleRegression\"\n",
    "model = LinearModels(model_name)\n",
    "\n",
    "model.use_scaled_data()\n",
    "scores = model.calculate_score(X_train, X_test, y_train, y_test, metrics) \n",
    "scores"
   ]
  },
  {
   "cell_type": "code",
   "execution_count": 8,
   "id": "68d5c1e9-04c3-48fb-be29-52d013ec061f",
   "metadata": {},
   "outputs": [
    {
     "data": {
      "text/plain": [
       "{'model_fit_time': array([0.109, 0.085, 0.081, 0.08 , 0.082]),\n",
       " 'neg_mean_absolute_error': array([-1.60136019, -1.60960767, -1.6112611 , -1.61425787, -1.59912871]),\n",
       " 'neg_root_mean_squared_error': array([-2.13342478, -2.13724123, -2.14536043, -2.15210295, -2.1258841 ]),\n",
       " 'r2': array([0.10649117, 0.10830421, 0.10762699, 0.10839059, 0.10954135]),\n",
       " 'model_predict_time': array([0.001, 0.001, 0.001, 0.001, 0.001])}"
      ]
     },
     "execution_count": 8,
     "metadata": {},
     "output_type": "execute_result"
    }
   ],
   "source": [
    "scores = model.cross_validate(X_train, y_train, metrics) \n",
    "scores"
   ]
  },
  {
   "cell_type": "markdown",
   "id": "fe740ef9-67ce-46f6-8fae-8b126ce8b9d6",
   "metadata": {},
   "source": [
    "## Random Forest"
   ]
  },
  {
   "cell_type": "code",
   "execution_count": 9,
   "id": "dfb6352c-c117-4091-a71d-e7feb60d575f",
   "metadata": {},
   "outputs": [
    {
     "data": {
      "text/plain": [
       "{'ExtraTrees': sklearn.ensemble._forest.ExtraTreesRegressor,\n",
       " 'RandomForest': sklearn.ensemble._forest.RandomForestRegressor}"
      ]
     },
     "execution_count": 9,
     "metadata": {},
     "output_type": "execute_result"
    }
   ],
   "source": [
    "from fowt_ml import EnsembleModel\n",
    "EnsembleModel.ESTIMATOR_NAMES"
   ]
  },
  {
   "cell_type": "code",
   "execution_count": 10,
   "id": "b95f0be8-5da1-43d1-81c8-ad41831fa887",
   "metadata": {},
   "outputs": [
    {
     "data": {
      "text/plain": [
       "{'neg_mean_absolute_error': -1.5959389437050893,\n",
       " 'neg_root_mean_squared_error': -2.1135488771633013,\n",
       " 'r2': 0.12112219032333066,\n",
       " 'model_fit_time': np.float64(5.78),\n",
       " 'model_predict_time': np.float64(0.003)}"
      ]
     },
     "execution_count": 10,
     "metadata": {},
     "output_type": "execute_result"
    }
   ],
   "source": [
    "model_name = \"RandomForest\"\n",
    "model = EnsembleModel(estimator=model_name, max_depth=9, bootstrap=True, max_samples=10_000, n_estimators=50)\n",
    "\n",
    "model.use_scaled_data()\n",
    "scores = model.calculate_score(X_train, X_test, y_train, y_test, metrics) \n",
    "scores"
   ]
  },
  {
   "cell_type": "markdown",
   "id": "62e4d00f-e258-464e-b372-fe208e490ce1",
   "metadata": {},
   "source": [
    "## Gaussian Process"
   ]
  },
  {
   "cell_type": "code",
   "execution_count": 12,
   "id": "3079eaa0-e068-4fc1-bb06-d7794da226f1",
   "metadata": {},
   "outputs": [
    {
     "data": {
      "text/plain": [
       "{'SklearnGPRegressor': fowt_ml.gaussian_process.SklearnGPRegressor}"
      ]
     },
     "execution_count": 12,
     "metadata": {},
     "output_type": "execute_result"
    }
   ],
   "source": [
    "from fowt_ml import SparseGaussianModel\n",
    "SparseGaussianModel.ESTIMATOR_NAMES"
   ]
  },
  {
   "cell_type": "code",
   "execution_count": 13,
   "id": "ddf72b94-c41f-4cd7-bf9c-f54471590a9f",
   "metadata": {},
   "outputs": [
    {
     "data": {
      "text/plain": [
       "{'neg_mean_absolute_error': -1.5981088588623225,\n",
       " 'neg_root_mean_squared_error': -2.1218047367573445,\n",
       " 'r2': 0.12320574147031532,\n",
       " 'model_fit_time': np.float64(88.066),\n",
       " 'model_predict_time': np.float64(0.021)}"
      ]
     },
     "execution_count": 13,
     "metadata": {},
     "output_type": "execute_result"
    }
   ],
   "source": [
    "model_name = \"SklearnGPRegressor\"\n",
    "params = config[\"ml_setup\"][\"model_names\"][model_name]\n",
    "\n",
    "model = SparseGaussianModel(model_name, **params)\n",
    "model.use_scaled_data()\n",
    "scores = model.calculate_score(X_train, X_test, y_train, y_test, metrics) \n",
    "scores"
   ]
  },
  {
   "cell_type": "markdown",
   "id": "4a87dcd3-abe3-4d72-9a4c-ffce816053a5",
   "metadata": {},
   "source": [
    "## MLP"
   ]
  },
  {
   "cell_type": "code",
   "execution_count": 14,
   "id": "e4712dc3-3270-4060-9230-fec3d1355670",
   "metadata": {},
   "outputs": [
    {
     "data": {
      "text/plain": [
       "{'MultilayerPerceptron': sklearn.neural_network._multilayer_perceptron.MLPRegressor}"
      ]
     },
     "execution_count": 14,
     "metadata": {},
     "output_type": "execute_result"
    }
   ],
   "source": [
    "from fowt_ml import NeuralNetwork\n",
    "NeuralNetwork.ESTIMATOR_NAMES"
   ]
  },
  {
   "cell_type": "code",
   "execution_count": 15,
   "id": "1823251b-2eb7-4dec-bf43-06a503c3dc1b",
   "metadata": {},
   "outputs": [
    {
     "data": {
      "text/plain": [
       "{'neg_mean_absolute_error': -1.5981261086400942,\n",
       " 'neg_root_mean_squared_error': -2.1186915415839853,\n",
       " 'r2': 0.12120288013830806,\n",
       " 'model_fit_time': np.float64(11.438),\n",
       " 'model_predict_time': np.float64(0.001)}"
      ]
     },
     "execution_count": 15,
     "metadata": {},
     "output_type": "execute_result"
    }
   ],
   "source": [
    "model_name = \"MultilayerPerceptron\"\n",
    "params = config[\"ml_setup\"][\"model_names\"][model_name]\n",
    "\n",
    "model = NeuralNetwork(model_name, **params)\n",
    "model.use_scaled_data()\n",
    "scores = model.calculate_score(X_train, X_test, y_train, y_test, metrics) \n",
    "scores"
   ]
  },
  {
   "cell_type": "markdown",
   "id": "5133d3e3-face-44c7-8f88-f3540489c7bd",
   "metadata": {},
   "source": [
    "## XGBoots"
   ]
  },
  {
   "cell_type": "code",
   "execution_count": 16,
   "id": "c0b371a6-78ce-44cd-a245-30d77e0f1012",
   "metadata": {},
   "outputs": [
    {
     "data": {
      "text/plain": [
       "{'XGBoostRegression': xgboost.sklearn.XGBRegressor}"
      ]
     },
     "execution_count": 16,
     "metadata": {},
     "output_type": "execute_result"
    }
   ],
   "source": [
    "from fowt_ml import XGBoost\n",
    "XGBoost.ESTIMATOR_NAMES"
   ]
  },
  {
   "cell_type": "code",
   "execution_count": 17,
   "id": "2483abee-84e4-49da-a258-2d10a9f47730",
   "metadata": {},
   "outputs": [
    {
     "data": {
      "text/plain": [
       "{'neg_mean_absolute_error': -1.581722378730774,\n",
       " 'neg_root_mean_squared_error': -2.0865964889526367,\n",
       " 'r2': 0.15320807695388794,\n",
       " 'model_fit_time': np.float64(2.811),\n",
       " 'model_predict_time': np.float64(0.001)}"
      ]
     },
     "execution_count": 17,
     "metadata": {},
     "output_type": "execute_result"
    }
   ],
   "source": [
    "model_name = \"XGBoostRegression\"\n",
    "params = config[\"ml_setup\"][\"model_names\"][model_name]\n",
    "model = XGBoost(model_name, **params)\n",
    "\n",
    "model.use_scaled_data()\n",
    "scores = model.calculate_score(X_train, X_test, y_train, y_test, metrics) \n",
    "scores"
   ]
  },
  {
   "cell_type": "code",
   "execution_count": null,
   "id": "a7bf5d77-5884-4ff3-b4db-cc777c67b23a",
   "metadata": {},
   "outputs": [],
   "source": []
  }
 ],
 "metadata": {
  "kernelspec": {
   "display_name": "Python 3 (ipykernel)",
   "language": "python",
   "name": "python3"
  },
  "language_info": {
   "codemirror_mode": {
    "name": "ipython",
    "version": 3
   },
   "file_extension": ".py",
   "mimetype": "text/x-python",
   "name": "python",
   "nbconvert_exporter": "python",
   "pygments_lexer": "ipython3",
   "version": "3.11.11"
  }
 },
 "nbformat": 4,
 "nbformat_minor": 5
}
