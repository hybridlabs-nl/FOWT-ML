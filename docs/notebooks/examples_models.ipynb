{
 "cells": [
  {
   "cell_type": "markdown",
   "id": "f1670539-95be-4bab-b9fe-1f63f4675915",
   "metadata": {},
   "source": [
    "# How to run a model using `fowt_ml` and calculate scores"
   ]
  },
  {
   "cell_type": "markdown",
   "id": "2d6f75b9-f730-4217-a524-362b96e4feb7",
   "metadata": {},
   "source": [
    "## Data preparation (common for any type of model)"
   ]
  },
  {
   "cell_type": "code",
   "execution_count": 1,
   "id": "a2cfe7cb-2ce5-4564-8b62-6b321ef36022",
   "metadata": {},
   "outputs": [],
   "source": [
    "from fowt_ml.config import read_yaml\n",
    "from fowt_ml.datasets import get_data\n",
    "from sklearn.model_selection import train_test_split"
   ]
  },
  {
   "cell_type": "code",
   "execution_count": 2,
   "id": "9668aa7e-d4b0-4029-8f51-2600484cbe99",
   "metadata": {},
   "outputs": [],
   "source": [
    "example_config_file = \"../../src/example_config.yml\""
   ]
  },
  {
   "cell_type": "code",
   "execution_count": 3,
   "id": "336fe93e-1c1d-4139-8bba-d9bf40ff85bf",
   "metadata": {},
   "outputs": [],
   "source": [
    "config = read_yaml(example_config_file)\n",
    "config[\"data\"][\"exp699\"][\"mat_file\"] = \"/home/sarah/temp/hybridlabs/data_example/exp699.mat\"\n",
    "df = get_data(\"exp699\", config[\"data\"])"
   ]
  },
  {
   "cell_type": "code",
   "execution_count": 4,
   "id": "d723305b-6614-43ad-afd8-54a4e534ceb3",
   "metadata": {},
   "outputs": [],
   "source": [
    "# train/test split\n",
    "predictors_labels = config[\"ml_setup\"][\"predictors\"]\n",
    "target_labels = config[\"ml_setup\"][\"targets\"]\n",
    "\n",
    "X_data = df[predictors_labels]\n",
    "Y_data = df[target_labels]\n",
    "\n",
    "X_train, X_test, y_train, y_test = train_test_split(X_data, Y_data, test_size=0.25, shuffle=True, random_state=123)"
   ]
  },
  {
   "cell_type": "markdown",
   "id": "662a9b61-ab4b-4f67-b5e2-ca5db7187b7c",
   "metadata": {},
   "source": [
    "## Linear models "
   ]
  },
  {
   "cell_type": "code",
   "execution_count": 9,
   "id": "1f15df9a-4255-4550-81e9-7e36459d4ef5",
   "metadata": {},
   "outputs": [
    {
     "data": {
      "text/plain": [
       "{'LinearRegression': sklearn.linear_model._base.LinearRegression,\n",
       " 'RidgeRegression': sklearn.linear_model._ridge.Ridge,\n",
       " 'LassoRegression': sklearn.linear_model._coordinate_descent.Lasso,\n",
       " 'ElasticNetRegression': sklearn.linear_model._coordinate_descent.ElasticNet,\n",
       " 'LeastAngleRegression': sklearn.linear_model._least_angle.Lars}"
      ]
     },
     "execution_count": 9,
     "metadata": {},
     "output_type": "execute_result"
    }
   ],
   "source": [
    "from fowt_ml.linear_models import LinearModels\n",
    "LinearModels.ESTIMATOR_NAMES"
   ]
  },
  {
   "cell_type": "code",
   "execution_count": 10,
   "id": "339bbc1d-28f5-41a4-8405-5a0c7af56e72",
   "metadata": {},
   "outputs": [
    {
     "data": {
      "text/plain": [
       "{'neg_mean_squared_error': -7.142729846925139,\n",
       " 'neg_root_mean_squared_error': -2.262318094629433,\n",
       " 'r2': 0.4049439308312828,\n",
       " 'model_fit_time': np.float64(0.11)}"
      ]
     },
     "execution_count": 10,
     "metadata": {},
     "output_type": "execute_result"
    }
   ],
   "source": [
    "# calculate metrics\n",
    "model_name = \"LeastAngleRegression\"\n",
    "model = LinearModels(model_name)\n",
    "\n",
    "metrics = [\"neg_mean_squared_error\", \"neg_root_mean_squared_error\", \"r2\", \"model_fit_time\"]\n",
    "scores = model.calculate_score(X_train, X_test, y_train, y_test, metrics) \n",
    "scores"
   ]
  },
  {
   "cell_type": "markdown",
   "id": "fe740ef9-67ce-46f6-8fae-8b126ce8b9d6",
   "metadata": {},
   "source": [
    "## Random Forest"
   ]
  },
  {
   "cell_type": "code",
   "execution_count": 1,
   "id": "dfb6352c-c117-4091-a71d-e7feb60d575f",
   "metadata": {},
   "outputs": [
    {
     "data": {
      "text/plain": [
       "{'ExtraTrees': sklearn.ensemble._forest.ExtraTreesRegressor,\n",
       " 'RandomForest': sklearn.ensemble._forest.RandomForestRegressor}"
      ]
     },
     "execution_count": 1,
     "metadata": {},
     "output_type": "execute_result"
    }
   ],
   "source": [
    "from fowt_ml.ensemble import EnsembleModel\n",
    "EnsembleModel.ESTIMATOR_NAMES"
   ]
  },
  {
   "cell_type": "code",
   "execution_count": 7,
   "id": "b95f0be8-5da1-43d1-81c8-ad41831fa887",
   "metadata": {},
   "outputs": [
    {
     "data": {
      "text/plain": [
       "{'neg_mean_squared_error': -7.030263273594386,\n",
       " 'neg_root_mean_squared_error': -2.2297171541025516,\n",
       " 'r2': 0.43169729068927937,\n",
       " 'model_fit_time': np.float64(5.73)}"
      ]
     },
     "execution_count": 7,
     "metadata": {},
     "output_type": "execute_result"
    }
   ],
   "source": [
    "model_name = \"RandomForest\"\n",
    "model = EnsembleModel(estimator=model_name, max_depth=9, bootstrap=True, max_samples=10_000, n_estimators=50)\n",
    "\n",
    "scores = model.calculate_score(X_train, X_test, y_train, y_test, metrics) \n",
    "scores"
   ]
  },
  {
   "cell_type": "code",
   "execution_count": 9,
   "id": "090c32ec-4d84-40bb-a243-7c5d17b7e715",
   "metadata": {},
   "outputs": [
    {
     "name": "stderr",
     "output_type": "stream",
     "text": [
      "/home/sarah/GitHub/FOWT-ML/src/fowt_ml/ensemble.py:49: UserWarning: Setting `bootstrap=True` and `oob_score=<function EnsembleModel.oob_score.<locals>.score_func at 0x76ff30f44ae0>`\n",
      "  warnings.warn(f\"Setting `bootstrap=True` and `oob_score={oob_score}`\")\n"
     ]
    },
    {
     "data": {
      "text/plain": [
       "-2.2322728182947276"
      ]
     },
     "execution_count": 9,
     "metadata": {},
     "output_type": "execute_result"
    }
   ],
   "source": [
    "# using out-of-bag samples to estimate the generalization score\n",
    "score = model.oob_score(X_train, y_train, scoring=\"neg_root_mean_squared_error\")\n",
    "score"
   ]
  },
  {
   "cell_type": "markdown",
   "id": "62e4d00f-e258-464e-b372-fe208e490ce1",
   "metadata": {},
   "source": [
    "## Gaussian Process"
   ]
  },
  {
   "cell_type": "code",
   "execution_count": 10,
   "id": "3079eaa0-e068-4fc1-bb06-d7794da226f1",
   "metadata": {},
   "outputs": [
    {
     "data": {
      "text/plain": [
       "{'SklearnGPRegressor': fowt_ml.gaussian_process.SklearnGPRegressor}"
      ]
     },
     "execution_count": 10,
     "metadata": {},
     "output_type": "execute_result"
    }
   ],
   "source": [
    "from fowt_ml.gaussian_process import SparseGaussianModel\n",
    "SparseGaussianModel.ESTIMATOR_NAMES"
   ]
  },
  {
   "cell_type": "code",
   "execution_count": 11,
   "id": "ddf72b94-c41f-4cd7-bf9c-f54471590a9f",
   "metadata": {},
   "outputs": [
    {
     "data": {
      "text/plain": [
       "{'neg_mean_squared_error': -9.100683239392092,\n",
       " 'neg_root_mean_squared_error': -2.50777337759925,\n",
       " 'r2': 0.3374002291651839,\n",
       " 'model_fit_time': np.float64(93.17)}"
      ]
     },
     "execution_count": 11,
     "metadata": {},
     "output_type": "execute_result"
    }
   ],
   "source": [
    "model_name = \"SklearnGPRegressor\"\n",
    "params = {\n",
    "    \"num_inducing\": 100,  # larger will takes longer\n",
    "    \"num_latents\": 3,\n",
    "}\n",
    "\n",
    "model = SparseGaussianModel(model_name, **params)\n",
    "\n",
    "metrics = [\"neg_mean_squared_error\", \"neg_root_mean_squared_error\", \"r2\", \"model_fit_time\"]\n",
    "scores = model.calculate_score(X_train, X_test, y_train, y_test, metrics) \n",
    "scores"
   ]
  },
  {
   "cell_type": "markdown",
   "id": "4a87dcd3-abe3-4d72-9a4c-ffce816053a5",
   "metadata": {},
   "source": [
    "## MLP"
   ]
  },
  {
   "cell_type": "code",
   "execution_count": 5,
   "id": "e4712dc3-3270-4060-9230-fec3d1355670",
   "metadata": {},
   "outputs": [
    {
     "data": {
      "text/plain": [
       "{'MultilayerPerceptron': sklearn.neural_network._multilayer_perceptron.MLPRegressor}"
      ]
     },
     "execution_count": 5,
     "metadata": {},
     "output_type": "execute_result"
    }
   ],
   "source": [
    "from fowt_ml.neural_network import NN\n",
    "NN.ESTIMATOR_NAMES"
   ]
  },
  {
   "cell_type": "code",
   "execution_count": 6,
   "id": "1823251b-2eb7-4dec-bf43-06a503c3dc1b",
   "metadata": {},
   "outputs": [
    {
     "name": "stderr",
     "output_type": "stream",
     "text": [
      "/home/sarah/miniconda3/envs/fowt_ml/lib/python3.11/site-packages/sklearn/neural_network/_multilayer_perceptron.py:691: ConvergenceWarning: Stochastic Optimizer: Maximum iterations (10) reached and the optimization hasn't converged yet.\n",
      "  warnings.warn(\n"
     ]
    },
    {
     "data": {
      "text/plain": [
       "{'neg_mean_squared_error': -7.289962257367833,\n",
       " 'neg_root_mean_squared_error': -2.3049256494653982,\n",
       " 'r2': 0.3319488674638264,\n",
       " 'model_fit_time': np.float64(8.66)}"
      ]
     },
     "execution_count": 6,
     "metadata": {},
     "output_type": "execute_result"
    }
   ],
   "source": [
    "model_name = \"MultilayerPerceptron\"\n",
    "params = {\n",
    "    \"hidden_layer_sizes\": 10,  # larger will takes longer\n",
    "    \"max_iter\": 10,\n",
    "}\n",
    "model = NN(model_name, **params)\n",
    "\n",
    "metrics = [\"neg_mean_squared_error\", \"neg_root_mean_squared_error\", \"r2\", \"model_fit_time\"]\n",
    "scores = model.calculate_score(X_train, X_test, y_train, y_test, metrics) \n",
    "scores"
   ]
  },
  {
   "cell_type": "code",
   "execution_count": null,
   "id": "1cf07f55-bc41-4ca2-b569-4642937cdff5",
   "metadata": {},
   "outputs": [],
   "source": []
  }
 ],
 "metadata": {
  "kernelspec": {
   "display_name": "Python 3 (ipykernel)",
   "language": "python",
   "name": "python3"
  },
  "language_info": {
   "codemirror_mode": {
    "name": "ipython",
    "version": 3
   },
   "file_extension": ".py",
   "mimetype": "text/x-python",
   "name": "python",
   "nbconvert_exporter": "python",
   "pygments_lexer": "ipython3",
   "version": "3.11.11"
  }
 },
 "nbformat": 4,
 "nbformat_minor": 5
}
