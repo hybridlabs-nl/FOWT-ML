{
 "cells": [
  {
   "cell_type": "code",
   "execution_count": 1,
   "metadata": {},
   "outputs": [],
   "source": [
    "from sklearn.model_selection import train_test_split\n",
    "\n",
    "from fowt_ml.datasets import convert_mat_to_df\n",
    "from fowt_ml.ensemble import EnsembleModel"
   ]
  },
  {
   "cell_type": "markdown",
   "metadata": {},
   "source": [
    "# Fit a Random Forest Estimator"
   ]
  },
  {
   "cell_type": "markdown",
   "metadata": {},
   "source": [
    "Load and fix the dataset:"
   ]
  },
  {
   "cell_type": "code",
   "execution_count": 2,
   "metadata": {},
   "outputs": [],
   "source": [
    "data_path = \"../../data/exp699_032024_TUDelft/exp699.mat\"\n",
    "data = convert_mat_to_df(data_path, \"exp699\")\n",
    "data[\"wind_speed\"] = 4.  # add attribute as a feature"
   ]
  },
  {
   "cell_type": "markdown",
   "metadata": {},
   "source": [
    "Define targets and predictors, then split them into train and test data:\n"
   ]
  },
  {
   "cell_type": "code",
   "execution_count": 3,
   "metadata": {},
   "outputs": [],
   "source": [
    "\n",
    "target_labels = [\n",
    "    'acc_tb_meas3[0]',\n",
    "    'acc_tb_meas3[1]',\n",
    "    'acc_tb_meas3[2]',\n",
    "    'acc_tt_meas3[0]',\n",
    "    'acc_tt_meas3[1]',\n",
    "    'acc_tt_meas3[2]',\n",
    "    'force_aero_est6[0]',\n",
    "    'force_aero_est6[1]',\n",
    "    'force_aero_est6[2]',\n",
    "    'force_aero_est6[3]',\n",
    "    'force_aero_est6[4]',\n",
    "    'force_aero_est6[5]',\n",
    "    'force_tt_meas6[0]',\n",
    "    'force_tt_meas6[1]',\n",
    "    'force_tt_meas6[2]',\n",
    "    'force_tt_meas6[3]',\n",
    "    'force_tt_meas6[4]',\n",
    "    'force_tt_meas6[5]',\n",
    "]\n",
    "predictor_labels = [\n",
    "    'pos_act6[0]',\n",
    "    'pos_act6[1]',\n",
    "    'pos_act6[2]',\n",
    "    'pos_act6[3]',\n",
    "    'pos_act6[4]',\n",
    "    'pos_act6[5]',\n",
    "    'spd_rot_act',\n",
    "    'wind_speed',\n",
    "]\n",
    "\n",
    "X = data[predictor_labels]\n",
    "Y = data[target_labels]\n",
    "\n",
    "# should we shuffle data here?\n",
    "X_train, X_test, Y_train, Y_test = train_test_split(X, Y, test_size=0.25, random_state=123)  # shuffle = True)"
   ]
  },
  {
   "cell_type": "markdown",
   "metadata": {},
   "source": [
    "Let's instantiate a model by defining a few parameters: "
   ]
  },
  {
   "cell_type": "code",
   "execution_count": 4,
   "metadata": {},
   "outputs": [],
   "source": [
    "model = EnsembleModel(\n",
    "    estimator=\"RandomForest\", max_depth=9, max_samples=10_000, n_estimators=50\n",
    ")"
   ]
  },
  {
   "cell_type": "markdown",
   "metadata": {},
   "source": [
    "We get an estimate of the model performance by running cross validation (CV) - the default is to run k-fold CV, with `k=5`: "
   ]
  },
  {
   "cell_type": "code",
   "execution_count": 5,
   "metadata": {},
   "outputs": [
    {
     "name": "stdout",
     "output_type": "stream",
     "text": [
      "CPU times: user 22.9 s, sys: 564 ms, total: 23.5 s\n",
      "Wall time: 24.3 s\n"
     ]
    },
    {
     "data": {
      "text/plain": [
       "(5, -3.4812604563320386, 0.005142800724868689)"
      ]
     },
     "execution_count": 5,
     "metadata": {},
     "output_type": "execute_result"
    }
   ],
   "source": [
    "%%time\n",
    "scores = model.cross_val_score(X_train, Y_train, scoring=\"neg_root_mean_squared_error\")\n",
    "len(scores), scores.mean(), scores.std()"
   ]
  },
  {
   "cell_type": "markdown",
   "metadata": {},
   "source": [
    "We can then train the model on the full training dataset, and get the ultimate score on the test set: "
   ]
  },
  {
   "cell_type": "code",
   "execution_count": 6,
   "metadata": {},
   "outputs": [
    {
     "data": {
      "text/plain": [
       "-3.487296951081186"
      ]
     },
     "execution_count": 6,
     "metadata": {},
     "output_type": "execute_result"
    }
   ],
   "source": [
    "model.fit(X_train, Y_train)\n",
    "model.score(X_test, Y_test, scoring=\"neg_root_mean_squared_error\")\n"
   ]
  }
 ],
 "metadata": {
  "kernelspec": {
   "display_name": "hybridlabs",
   "language": "python",
   "name": "python3"
  },
  "language_info": {
   "codemirror_mode": {
    "name": "ipython",
    "version": 3
   },
   "file_extension": ".py",
   "mimetype": "text/x-python",
   "name": "python",
   "nbconvert_exporter": "python",
   "pygments_lexer": "ipython3",
   "version": "3.11.11"
  }
 },
 "nbformat": 4,
 "nbformat_minor": 2
}
