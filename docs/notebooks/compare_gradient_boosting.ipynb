{
 "cells": [
  {
   "cell_type": "code",
   "execution_count": 1,
   "id": "33f0d675-bda0-4700-b494-3a1ac492e20b",
   "metadata": {},
   "outputs": [],
   "source": [
    "from fowt_ml.pipeline import Pipeline"
   ]
  },
  {
   "cell_type": "code",
   "execution_count": 2,
   "id": "9668aa7e-d4b0-4029-8f51-2600484cbe99",
   "metadata": {},
   "outputs": [],
   "source": [
    "example_config_file = \"../../src/example_config.yml\""
   ]
  },
  {
   "cell_type": "code",
   "execution_count": 3,
   "id": "336fe93e-1c1d-4139-8bba-d9bf40ff85bf",
   "metadata": {},
   "outputs": [],
   "source": [
    "my_pipeline = Pipeline(example_config_file)"
   ]
  },
  {
   "cell_type": "code",
   "execution_count": 4,
   "id": "d723305b-6614-43ad-afd8-54a4e534ceb3",
   "metadata": {},
   "outputs": [],
   "source": [
    "# set correct path for mat file\n",
    "my_pipeline.config[\"data\"][\"exp699\"][\"mat_file\"] = \"../../../data/example/exp699.mat\""
   ]
  },
  {
   "cell_type": "code",
   "execution_count": 5,
   "id": "65883373-0964-4d01-88f4-74fcac69517e",
   "metadata": {},
   "outputs": [
    {
     "name": "stdout",
     "output_type": "stream",
     "text": [
      "<class 'pandas.core.frame.DataFrame'>\n",
      "RangeIndex: 327702 entries, 0 to 327701\n",
      "Columns: 125 entries, time to wind_speed\n",
      "dtypes: float64(125)\n",
      "memory usage: 312.5 MB\n"
     ]
    },
    {
     "data": {
      "text/html": [
       "<div>\n",
       "<style scoped>\n",
       "    .dataframe tbody tr th:only-of-type {\n",
       "        vertical-align: middle;\n",
       "    }\n",
       "\n",
       "    .dataframe tbody tr th {\n",
       "        vertical-align: top;\n",
       "    }\n",
       "\n",
       "    .dataframe thead th {\n",
       "        text-align: right;\n",
       "    }\n",
       "</style>\n",
       "<table border=\"1\" class=\"dataframe\">\n",
       "  <thead>\n",
       "    <tr style=\"text-align: right;\">\n",
       "      <th></th>\n",
       "      <th>time</th>\n",
       "      <th>acc_calc6[0]</th>\n",
       "      <th>acc_calc6[1]</th>\n",
       "      <th>acc_calc6[2]</th>\n",
       "      <th>acc_calc6[3]</th>\n",
       "      <th>acc_calc6[4]</th>\n",
       "      <th>acc_calc6[5]</th>\n",
       "      <th>acc_tb_meas3[0]</th>\n",
       "      <th>acc_tb_meas3[1]</th>\n",
       "      <th>acc_tb_meas3[2]</th>\n",
       "      <th>...</th>\n",
       "      <th>spd_rot_cmd</th>\n",
       "      <th>time_wave_precalc</th>\n",
       "      <th>tq_mot_act</th>\n",
       "      <th>trig_Hex_in</th>\n",
       "      <th>trig_PIV_in</th>\n",
       "      <th>trig_PIV_out</th>\n",
       "      <th>wtm2_spd_rot_act</th>\n",
       "      <th>wtm2_spd_tor_cmd</th>\n",
       "      <th>wtm2_tq_mot_act</th>\n",
       "      <th>wind_speed</th>\n",
       "    </tr>\n",
       "  </thead>\n",
       "  <tbody>\n",
       "    <tr>\n",
       "      <th>0</th>\n",
       "      <td>0.000000</td>\n",
       "      <td>-1.580219</td>\n",
       "      <td>0.135577</td>\n",
       "      <td>0.070342</td>\n",
       "      <td>-0.757244</td>\n",
       "      <td>-2.295318</td>\n",
       "      <td>-0.619591</td>\n",
       "      <td>-1.032135</td>\n",
       "      <td>0.214810</td>\n",
       "      <td>9.635009</td>\n",
       "      <td>...</td>\n",
       "      <td>474.0</td>\n",
       "      <td>29.406</td>\n",
       "      <td>-17.928282</td>\n",
       "      <td>0.999695</td>\n",
       "      <td>-0.000488</td>\n",
       "      <td>0.0</td>\n",
       "      <td>-470.274464</td>\n",
       "      <td>-474.0</td>\n",
       "      <td>40.714927</td>\n",
       "      <td>4.0</td>\n",
       "    </tr>\n",
       "    <tr>\n",
       "      <th>1</th>\n",
       "      <td>0.001000</td>\n",
       "      <td>-2.035639</td>\n",
       "      <td>0.705470</td>\n",
       "      <td>0.066672</td>\n",
       "      <td>-4.331129</td>\n",
       "      <td>-5.214741</td>\n",
       "      <td>-0.165520</td>\n",
       "      <td>-2.268602</td>\n",
       "      <td>-0.458810</td>\n",
       "      <td>7.425536</td>\n",
       "      <td>...</td>\n",
       "      <td>474.0</td>\n",
       "      <td>29.407</td>\n",
       "      <td>-29.986389</td>\n",
       "      <td>0.999969</td>\n",
       "      <td>-0.000336</td>\n",
       "      <td>0.0</td>\n",
       "      <td>-471.326827</td>\n",
       "      <td>-474.0</td>\n",
       "      <td>24.651387</td>\n",
       "      <td>4.0</td>\n",
       "    </tr>\n",
       "    <tr>\n",
       "      <th>2</th>\n",
       "      <td>0.001999</td>\n",
       "      <td>-2.114400</td>\n",
       "      <td>-0.785931</td>\n",
       "      <td>-0.044466</td>\n",
       "      <td>5.023345</td>\n",
       "      <td>-5.750528</td>\n",
       "      <td>-0.520829</td>\n",
       "      <td>-1.588994</td>\n",
       "      <td>-1.485706</td>\n",
       "      <td>6.823769</td>\n",
       "      <td>...</td>\n",
       "      <td>474.0</td>\n",
       "      <td>29.408</td>\n",
       "      <td>-14.466384</td>\n",
       "      <td>0.999695</td>\n",
       "      <td>-0.000610</td>\n",
       "      <td>0.0</td>\n",
       "      <td>-499.477522</td>\n",
       "      <td>-474.0</td>\n",
       "      <td>38.891995</td>\n",
       "      <td>4.0</td>\n",
       "    </tr>\n",
       "    <tr>\n",
       "      <th>3</th>\n",
       "      <td>0.003000</td>\n",
       "      <td>-2.179736</td>\n",
       "      <td>0.086170</td>\n",
       "      <td>0.448392</td>\n",
       "      <td>-0.444052</td>\n",
       "      <td>-6.337631</td>\n",
       "      <td>0.078678</td>\n",
       "      <td>0.279178</td>\n",
       "      <td>-1.889878</td>\n",
       "      <td>6.000455</td>\n",
       "      <td>...</td>\n",
       "      <td>474.0</td>\n",
       "      <td>29.409</td>\n",
       "      <td>-22.535783</td>\n",
       "      <td>0.999084</td>\n",
       "      <td>-0.000214</td>\n",
       "      <td>0.0</td>\n",
       "      <td>-470.800646</td>\n",
       "      <td>-474.0</td>\n",
       "      <td>25.997681</td>\n",
       "      <td>4.0</td>\n",
       "    </tr>\n",
       "    <tr>\n",
       "      <th>4</th>\n",
       "      <td>0.004000</td>\n",
       "      <td>-1.792539</td>\n",
       "      <td>-0.315190</td>\n",
       "      <td>0.253570</td>\n",
       "      <td>2.065519</td>\n",
       "      <td>-3.999853</td>\n",
       "      <td>0.206758</td>\n",
       "      <td>-1.349485</td>\n",
       "      <td>-1.129436</td>\n",
       "      <td>8.111131</td>\n",
       "      <td>...</td>\n",
       "      <td>474.0</td>\n",
       "      <td>29.410</td>\n",
       "      <td>-14.566729</td>\n",
       "      <td>0.999695</td>\n",
       "      <td>-0.000092</td>\n",
       "      <td>0.0</td>\n",
       "      <td>-471.589917</td>\n",
       "      <td>-474.0</td>\n",
       "      <td>29.576647</td>\n",
       "      <td>4.0</td>\n",
       "    </tr>\n",
       "  </tbody>\n",
       "</table>\n",
       "<p>5 rows × 125 columns</p>\n",
       "</div>"
      ],
      "text/plain": [
       "       time  acc_calc6[0]  acc_calc6[1]  acc_calc6[2]  acc_calc6[3]  \\\n",
       "0  0.000000     -1.580219      0.135577      0.070342     -0.757244   \n",
       "1  0.001000     -2.035639      0.705470      0.066672     -4.331129   \n",
       "2  0.001999     -2.114400     -0.785931     -0.044466      5.023345   \n",
       "3  0.003000     -2.179736      0.086170      0.448392     -0.444052   \n",
       "4  0.004000     -1.792539     -0.315190      0.253570      2.065519   \n",
       "\n",
       "   acc_calc6[4]  acc_calc6[5]  acc_tb_meas3[0]  acc_tb_meas3[1]  \\\n",
       "0     -2.295318     -0.619591        -1.032135         0.214810   \n",
       "1     -5.214741     -0.165520        -2.268602        -0.458810   \n",
       "2     -5.750528     -0.520829        -1.588994        -1.485706   \n",
       "3     -6.337631      0.078678         0.279178        -1.889878   \n",
       "4     -3.999853      0.206758        -1.349485        -1.129436   \n",
       "\n",
       "   acc_tb_meas3[2]  ...  spd_rot_cmd  time_wave_precalc  tq_mot_act  \\\n",
       "0         9.635009  ...        474.0             29.406  -17.928282   \n",
       "1         7.425536  ...        474.0             29.407  -29.986389   \n",
       "2         6.823769  ...        474.0             29.408  -14.466384   \n",
       "3         6.000455  ...        474.0             29.409  -22.535783   \n",
       "4         8.111131  ...        474.0             29.410  -14.566729   \n",
       "\n",
       "   trig_Hex_in  trig_PIV_in  trig_PIV_out  wtm2_spd_rot_act  wtm2_spd_tor_cmd  \\\n",
       "0     0.999695    -0.000488           0.0       -470.274464            -474.0   \n",
       "1     0.999969    -0.000336           0.0       -471.326827            -474.0   \n",
       "2     0.999695    -0.000610           0.0       -499.477522            -474.0   \n",
       "3     0.999084    -0.000214           0.0       -470.800646            -474.0   \n",
       "4     0.999695    -0.000092           0.0       -471.589917            -474.0   \n",
       "\n",
       "   wtm2_tq_mot_act  wind_speed  \n",
       "0        40.714927         4.0  \n",
       "1        24.651387         4.0  \n",
       "2        38.891995         4.0  \n",
       "3        25.997681         4.0  \n",
       "4        29.576647         4.0  \n",
       "\n",
       "[5 rows x 125 columns]"
      ]
     },
     "execution_count": 5,
     "metadata": {},
     "output_type": "execute_result"
    }
   ],
   "source": [
    "# get the data\n",
    "df = my_pipeline.get_data(\"exp699\")\n",
    "df.info()\n",
    "df.head()"
   ]
  },
  {
   "cell_type": "code",
   "execution_count": 6,
   "id": "02cdd9e1-a550-4678-83c3-42e372605dce",
   "metadata": {},
   "outputs": [
    {
     "data": {
      "text/plain": [
       "{'target': ['acc_tb_meas3[0]',\n",
       "  'acc_tb_meas3[1]',\n",
       "  'acc_tb_meas3[2]',\n",
       "  'acc_tt_meas3[0]',\n",
       "  'acc_tt_meas3[1]',\n",
       "  'acc_tt_meas3[2]',\n",
       "  'force_aero_est6[0]',\n",
       "  'force_aero_est6[1]',\n",
       "  'force_aero_est6[2]',\n",
       "  'force_aero_est6[3]',\n",
       "  'force_aero_est6[4]',\n",
       "  'force_aero_est6[5]',\n",
       "  'force_tt_meas6[0]',\n",
       "  'force_tt_meas6[1]',\n",
       "  'force_tt_meas6[2]',\n",
       "  'force_tt_meas6[3]',\n",
       "  'force_tt_meas6[4]',\n",
       "  'force_tt_meas6[5]'],\n",
       " 'predictors': ['pos_act6[0]',\n",
       "  'pos_act6[1]',\n",
       "  'pos_act6[2]',\n",
       "  'pos_act6[3]',\n",
       "  'pos_act6[4]',\n",
       "  'pos_act6[5]',\n",
       "  'spd_rot_act',\n",
       "  'wind_speed'],\n",
       " 'save_grid_scores': True,\n",
       " 'save_best_model': True,\n",
       " 'n_jobs': 2,\n",
       " 'use_gpu': False,\n",
       " 'train_size': 0.7,\n",
       " 'models': ['en', 'lar', 'llar', 'lasso', 'lr', 'ridge', 'omp', 'ransac'],\n",
       " 'metrics_sort': 'R2',\n",
       " 'system_log': './logs.log'}"
      ]
     },
     "execution_count": 6,
     "metadata": {},
     "output_type": "execute_result"
    }
   ],
   "source": [
    "# inspect ML setup\n",
    "my_pipeline.config[\"ml_setup\"]"
   ]
  },
  {
   "cell_type": "code",
   "execution_count": 7,
   "id": "03987d96-eb24-4d7b-972b-7d5b1688ed67",
   "metadata": {},
   "outputs": [],
   "source": [
    "import mlflow\n",
    "import mlflow.sklearn\n",
    "from sklearn.ensemble import HistGradientBoostingRegressor\n",
    "from sklearn.model_selection import train_test_split\n",
    "from sklearn.multioutput import MultiOutputRegressor\n",
    "from sklearn.linear_model import Lars, Lasso, Ridge\n",
    "from sklearn.metrics import root_mean_squared_error"
   ]
  },
  {
   "cell_type": "code",
   "execution_count": 8,
   "id": "a34cba8b-4f34-4e0d-adf6-725087c6fa1d",
   "metadata": {},
   "outputs": [],
   "source": [
    "def train_and_log_model(model, model_name, batch_size=None):\n",
    "    with mlflow.start_run():\n",
    "        X_batch, y_batch = X_train, y_train\n",
    "        if batch_size != None:\n",
    "            X_batch, y_batch = X_train[:batch_size], y_train[:batch_size]\n",
    "\n",
    "        # Train the model\n",
    "        model.fit(X_batch, y_batch)\n",
    "        \n",
    "        # Predict the target\n",
    "        y_pred = model.predict(X_test)\n",
    "        \n",
    "        # Log model parameters and metrics\n",
    "        mlflow.log_param(\"model_name\", model_name)\n",
    "        mlflow.log_param(\"n_estimators\", model.n_estimators if hasattr(model, 'n_estimators') else None)\n",
    "        mlflow.log_param(\"max_depth\", model.max_depth if hasattr(model, 'max_depth') else None)\n",
    "        \n",
    "        # Calculate and log the performance metrics\n",
    "        rmse = root_mean_squared_error(y_test, y_pred)\n",
    "        mlflow.log_metric(\"rmse\", rmse)\n",
    "        \n",
    "        # Log the model itself\n",
    "        mlflow.sklearn.log_model(model, model_name)\n",
    "        \n",
    "        return rmse"
   ]
  },
  {
   "cell_type": "code",
   "execution_count": 9,
   "id": "23b1a399-6026-4705-bf67-24bfad96a43a",
   "metadata": {},
   "outputs": [],
   "source": [
    "gbr = HistGradientBoostingRegressor(\n",
    "    learning_rate=0.12,\n",
    "    max_iter=20,\n",
    "    max_depth=3,\n",
    ")\n",
    "\n",
    "models = [\n",
    "    (MultiOutputRegressor(gbr, n_jobs=18), \"GradientBoostingRegressor\"),\n",
    "    (Lars(), \"LeastAngleRegression\"),\n",
    "    (Lasso(), \"LassoRegression\"),\n",
    "    (Ridge(), \"RidgeRegression\")\n",
    "]\n",
    "\n",
    "# Dictionary to store model performances\n",
    "model_performances = {}\n",
    "\n",
    "predictors_labels = my_pipeline.config[\"ml_setup\"][\"predictors\"]\n",
    "target_labels = my_pipeline.config[\"ml_setup\"][\"target\"]\n",
    "\n",
    "X_data = df[predictors_labels]\n",
    "Y_data = df[target_labels]"
   ]
  },
  {
   "cell_type": "markdown",
   "id": "68bd370e",
   "metadata": {},
   "source": [
    "# Notes on sklearn gradient boosting regressor\n",
    "\n",
    "sklearn comes with two variants of gradient boosting regressors: GradientBoostingRegressor and HistGradientBoostingRegressor. The former is better for smaller sample sizes (<10k), the latter better for larger sample sizes.\n",
    "\n",
    "sklearn gradient boosting regressors do not natively support multi-target learning. The MultiOutputRegressor can be used to solve this naively.\n",
    "\n",
    "sklearn gradient boosting is slower than least angle, lasso, or ridge regression. However, it can achieve the same or slightly better performance by tweaking the regressor parameters. The above parameters gave good results on the example set.\n",
    "\n",
    "The multi-output regressor also has a parameter to tweak: the number of jobs. For the example data 18 jobs (1 per target) outperformed both 1 job and -1 (as many as possible)."
   ]
  },
  {
   "cell_type": "code",
   "execution_count": 10,
   "id": "14442af3",
   "metadata": {},
   "outputs": [],
   "source": [
    "X_train, X_test, y_train, y_test = train_test_split(X_data, Y_data, test_size=0.75, shuffle=False, random_state=123) # TODO set test_size to 0.25"
   ]
  },
  {
   "cell_type": "code",
   "execution_count": 11,
   "id": "988c26b8",
   "metadata": {},
   "outputs": [
    {
     "name": "stdout",
     "output_type": "stream",
     "text": [
      "(81925, 8)\n",
      "(81925, 18)\n"
     ]
    }
   ],
   "source": [
    "print(X_train.shape)\n",
    "print(y_train.shape)"
   ]
  },
  {
   "cell_type": "code",
   "execution_count": 12,
   "id": "b03891d8",
   "metadata": {},
   "outputs": [],
   "source": [
    "import datetime"
   ]
  },
  {
   "cell_type": "code",
   "execution_count": 13,
   "id": "0efeb415",
   "metadata": {},
   "outputs": [
    {
     "name": "stderr",
     "output_type": "stream",
     "text": [
      "\u001b[31m2025/01/31 14:27:01 WARNING mlflow.models.model: Model logged without a signature and input example. Please set `input_example` parameter when logging the model to auto infer the model signature.\u001b[0m\n"
     ]
    },
    {
     "name": "stdout",
     "output_type": "stream",
     "text": [
      "runtime GradientBoostingRegressor: 0:00:16.975876\n"
     ]
    },
    {
     "name": "stderr",
     "output_type": "stream",
     "text": [
      "\u001b[31m2025/01/31 14:27:04 WARNING mlflow.models.model: Model logged without a signature and input example. Please set `input_example` parameter when logging the model to auto infer the model signature.\u001b[0m\n"
     ]
    },
    {
     "name": "stdout",
     "output_type": "stream",
     "text": [
      "runtime LeastAngleRegression: 0:00:03.728180\n"
     ]
    },
    {
     "name": "stderr",
     "output_type": "stream",
     "text": [
      "\u001b[31m2025/01/31 14:27:08 WARNING mlflow.models.model: Model logged without a signature and input example. Please set `input_example` parameter when logging the model to auto infer the model signature.\u001b[0m\n"
     ]
    },
    {
     "name": "stdout",
     "output_type": "stream",
     "text": [
      "runtime LassoRegression: 0:00:03.668163\n"
     ]
    },
    {
     "name": "stderr",
     "output_type": "stream",
     "text": [
      "\u001b[31m2025/01/31 14:27:12 WARNING mlflow.models.model: Model logged without a signature and input example. Please set `input_example` parameter when logging the model to auto infer the model signature.\u001b[0m\n"
     ]
    },
    {
     "name": "stdout",
     "output_type": "stream",
     "text": [
      "runtime RidgeRegression: 0:00:03.736193\n",
      "{'GradientBoostingRegressor': 3.592288147012628, 'LeastAngleRegression': 3.5914625711937265, 'LassoRegression': 3.733306142704239, 'RidgeRegression': 3.5914586161568707}\n",
      "CPU times: user 6.29 s, sys: 1.05 s, total: 7.34 s\n",
      "Wall time: 28.1 s\n"
     ]
    }
   ],
   "source": [
    "%%time\n",
    "# Train, log models, and compare performance\n",
    "for model, name in models:\n",
    "    start_time = datetime.datetime.now()\n",
    "    rmse = train_and_log_model(model, name)\n",
    "    model_performances[name] = rmse\n",
    "    end_time = datetime.datetime.now()\n",
    "    print(f\"runtime {name}: {end_time-start_time}\")\n",
    "print(model_performances)"
   ]
  },
  {
   "cell_type": "code",
   "execution_count": 26,
   "id": "6176f6ee",
   "metadata": {},
   "outputs": [],
   "source": [
    "# from pprint import pprint\n",
    "\n",
    "# import matplotlib as mpl\n",
    "from xgboost import XGBRegressor\n",
    "from sklearn import datasets\n",
    "from sklearn.metrics import mean_squared_error\n",
    "from sklearn.metrics import accuracy_score, log_loss\n",
    "from sklearn.model_selection import train_test_split\n",
    "\n",
    "import mlflow\n",
    "import mlflow.xgboost\n",
    "\n",
    "#from utils import fetch_logged_data"
   ]
  },
  {
   "cell_type": "code",
   "execution_count": 27,
   "id": "15dc7ce4",
   "metadata": {},
   "outputs": [],
   "source": [
    "xgbr = XGBRegressor(\n",
    "    learning_rate=0.12,\n",
    "    n_estimators=20,\n",
    "    max_depth=3,\n",
    "    n_jobs=18\n",
    ")\n",
    "\n",
    "xmodels = [\n",
    "    (xgbr, \"GradientBoostingRegressor\"),\n",
    "    (Lars(), \"LeastAngleRegression\"),\n",
    "    (Lasso(), \"LassoRegression\"),\n",
    "    (Ridge(), \"RidgeRegression\")\n",
    "]\n",
    "\n",
    "# Dictionary to store model performances\n",
    "xmodel_performances = {}"
   ]
  },
  {
   "cell_type": "code",
   "execution_count": 25,
   "id": "c931495f",
   "metadata": {},
   "outputs": [
    {
     "ename": "ValueError",
     "evalue": "feature_names must be string, and may not contain [, ] or <",
     "output_type": "error",
     "traceback": [
      "\u001b[0;31m---------------------------------------------------------------------------\u001b[0m",
      "\u001b[0;31mValueError\u001b[0m                                Traceback (most recent call last)",
      "File \u001b[0;32m<timed exec>:6\u001b[0m\n",
      "Cell \u001b[0;32mIn[24], line 7\u001b[0m, in \u001b[0;36mtrain_and_log_model_xgbr\u001b[0;34m(model, model_name, batch_size)\u001b[0m\n\u001b[1;32m      4\u001b[0m \u001b[38;5;28;01mif\u001b[39;00m batch_size \u001b[38;5;241m!=\u001b[39m \u001b[38;5;28;01mNone\u001b[39;00m:\n\u001b[1;32m      5\u001b[0m     X_batch, y_batch \u001b[38;5;241m=\u001b[39m X_train[:batch_size], y_train[:batch_size]\n\u001b[0;32m----> 7\u001b[0m dtrain \u001b[38;5;241m=\u001b[39m \u001b[43mxgb\u001b[49m\u001b[38;5;241;43m.\u001b[39;49m\u001b[43mDMatrix\u001b[49m\u001b[43m(\u001b[49m\u001b[43mX_batch\u001b[49m\u001b[43m,\u001b[49m\u001b[43m \u001b[49m\u001b[43mlabel\u001b[49m\u001b[38;5;241;43m=\u001b[39;49m\u001b[43my_batch\u001b[49m\u001b[43m)\u001b[49m\n\u001b[1;32m      8\u001b[0m dtest \u001b[38;5;241m=\u001b[39m xgb\u001b[38;5;241m.\u001b[39mDMatrix(X_test, label\u001b[38;5;241m=\u001b[39my_test)\n\u001b[1;32m     10\u001b[0m \u001b[38;5;66;03m# Train the model\u001b[39;00m\n",
      "File \u001b[0;32m/storage/miniforge3/envs/hybridlabs/lib/python3.13/site-packages/xgboost/core.py:726\u001b[0m, in \u001b[0;36mrequire_keyword_args.<locals>.throw_if.<locals>.inner_f\u001b[0;34m(*args, **kwargs)\u001b[0m\n\u001b[1;32m    724\u001b[0m \u001b[38;5;28;01mfor\u001b[39;00m k, arg \u001b[38;5;129;01min\u001b[39;00m \u001b[38;5;28mzip\u001b[39m(sig\u001b[38;5;241m.\u001b[39mparameters, args):\n\u001b[1;32m    725\u001b[0m     kwargs[k] \u001b[38;5;241m=\u001b[39m arg\n\u001b[0;32m--> 726\u001b[0m \u001b[38;5;28;01mreturn\u001b[39;00m \u001b[43mfunc\u001b[49m\u001b[43m(\u001b[49m\u001b[38;5;241;43m*\u001b[39;49m\u001b[38;5;241;43m*\u001b[39;49m\u001b[43mkwargs\u001b[49m\u001b[43m)\u001b[49m\n",
      "File \u001b[0;32m/storage/miniforge3/envs/hybridlabs/lib/python3.13/site-packages/xgboost/core.py:902\u001b[0m, in \u001b[0;36mDMatrix.__init__\u001b[0;34m(self, data, label, weight, base_margin, missing, silent, feature_names, feature_types, nthread, group, qid, label_lower_bound, label_upper_bound, feature_weights, enable_categorical, data_split_mode)\u001b[0m\n\u001b[1;32m    890\u001b[0m \u001b[38;5;28mself\u001b[39m\u001b[38;5;241m.\u001b[39mset_info(\n\u001b[1;32m    891\u001b[0m     label\u001b[38;5;241m=\u001b[39mlabel,\n\u001b[1;32m    892\u001b[0m     weight\u001b[38;5;241m=\u001b[39mweight,\n\u001b[0;32m   (...)\u001b[0m\n\u001b[1;32m    898\u001b[0m     feature_weights\u001b[38;5;241m=\u001b[39mfeature_weights,\n\u001b[1;32m    899\u001b[0m )\n\u001b[1;32m    901\u001b[0m \u001b[38;5;28;01mif\u001b[39;00m feature_names \u001b[38;5;129;01mis\u001b[39;00m \u001b[38;5;129;01mnot\u001b[39;00m \u001b[38;5;28;01mNone\u001b[39;00m:\n\u001b[0;32m--> 902\u001b[0m     \u001b[38;5;28;43mself\u001b[39;49m\u001b[38;5;241;43m.\u001b[39;49m\u001b[43mfeature_names\u001b[49m \u001b[38;5;241m=\u001b[39m feature_names\n\u001b[1;32m    903\u001b[0m \u001b[38;5;28;01mif\u001b[39;00m feature_types \u001b[38;5;129;01mis\u001b[39;00m \u001b[38;5;129;01mnot\u001b[39;00m \u001b[38;5;28;01mNone\u001b[39;00m:\n\u001b[1;32m    904\u001b[0m     \u001b[38;5;28mself\u001b[39m\u001b[38;5;241m.\u001b[39mfeature_types \u001b[38;5;241m=\u001b[39m feature_types\n",
      "File \u001b[0;32m/storage/miniforge3/envs/hybridlabs/lib/python3.13/site-packages/xgboost/core.py:1357\u001b[0m, in \u001b[0;36mDMatrix.feature_names\u001b[0;34m(self, feature_names)\u001b[0m\n\u001b[1;32m   1352\u001b[0m \u001b[38;5;66;03m# prohibit the use symbols that may affect parsing. e.g. []<\u001b[39;00m\n\u001b[1;32m   1353\u001b[0m \u001b[38;5;28;01mif\u001b[39;00m \u001b[38;5;129;01mnot\u001b[39;00m \u001b[38;5;28mall\u001b[39m(\n\u001b[1;32m   1354\u001b[0m     \u001b[38;5;28misinstance\u001b[39m(f, \u001b[38;5;28mstr\u001b[39m) \u001b[38;5;129;01mand\u001b[39;00m \u001b[38;5;129;01mnot\u001b[39;00m \u001b[38;5;28many\u001b[39m(x \u001b[38;5;129;01min\u001b[39;00m f \u001b[38;5;28;01mfor\u001b[39;00m x \u001b[38;5;129;01min\u001b[39;00m [\u001b[38;5;124m\"\u001b[39m\u001b[38;5;124m[\u001b[39m\u001b[38;5;124m\"\u001b[39m, \u001b[38;5;124m\"\u001b[39m\u001b[38;5;124m]\u001b[39m\u001b[38;5;124m\"\u001b[39m, \u001b[38;5;124m\"\u001b[39m\u001b[38;5;124m<\u001b[39m\u001b[38;5;124m\"\u001b[39m])\n\u001b[1;32m   1355\u001b[0m     \u001b[38;5;28;01mfor\u001b[39;00m f \u001b[38;5;129;01min\u001b[39;00m feature_names\n\u001b[1;32m   1356\u001b[0m ):\n\u001b[0;32m-> 1357\u001b[0m     \u001b[38;5;28;01mraise\u001b[39;00m \u001b[38;5;167;01mValueError\u001b[39;00m(\n\u001b[1;32m   1358\u001b[0m         \u001b[38;5;124m\"\u001b[39m\u001b[38;5;124mfeature_names must be string, and may not contain [, ] or <\u001b[39m\u001b[38;5;124m\"\u001b[39m\n\u001b[1;32m   1359\u001b[0m     )\n\u001b[1;32m   1361\u001b[0m feature_names_bytes \u001b[38;5;241m=\u001b[39m [\u001b[38;5;28mbytes\u001b[39m(f, encoding\u001b[38;5;241m=\u001b[39m\u001b[38;5;124m\"\u001b[39m\u001b[38;5;124mutf-8\u001b[39m\u001b[38;5;124m\"\u001b[39m) \u001b[38;5;28;01mfor\u001b[39;00m f \u001b[38;5;129;01min\u001b[39;00m feature_names]\n\u001b[1;32m   1362\u001b[0m c_feature_names \u001b[38;5;241m=\u001b[39m (ctypes\u001b[38;5;241m.\u001b[39mc_char_p \u001b[38;5;241m*\u001b[39m \u001b[38;5;28mlen\u001b[39m(feature_names_bytes))(\n\u001b[1;32m   1363\u001b[0m     \u001b[38;5;241m*\u001b[39mfeature_names_bytes\n\u001b[1;32m   1364\u001b[0m )\n",
      "\u001b[0;31mValueError\u001b[0m: feature_names must be string, and may not contain [, ] or <"
     ]
    }
   ],
   "source": [
    "%%time\n",
    "# Train, log models, and compare performance\n",
    "for model, name in xmodels:\n",
    "    start_time = datetime.datetime.now()\n",
    "    rmse = train_and_log_model(model, name)\n",
    "    xmodel_performances[name] = rmse\n",
    "    end_time = datetime.datetime.now()\n",
    "    print(f\"runtime {name}: {end_time-start_time}\")\n",
    "print(xmodel_performances)"
   ]
  },
  {
   "cell_type": "code",
   "execution_count": null,
   "id": "810572bb",
   "metadata": {},
   "outputs": [],
   "source": []
  }
 ],
 "metadata": {
  "kernelspec": {
   "display_name": "hybridlabs",
   "language": "python",
   "name": "python3"
  },
  "language_info": {
   "codemirror_mode": {
    "name": "ipython",
    "version": 3
   },
   "file_extension": ".py",
   "mimetype": "text/x-python",
   "name": "python",
   "nbconvert_exporter": "python",
   "pygments_lexer": "ipython3",
   "version": "3.13.1"
  }
 },
 "nbformat": 4,
 "nbformat_minor": 5
}
