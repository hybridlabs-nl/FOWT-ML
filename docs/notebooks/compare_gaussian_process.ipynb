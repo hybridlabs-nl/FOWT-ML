{
 "cells": [
  {
   "cell_type": "code",
   "execution_count": 2,
   "id": "33f0d675-bda0-4700-b494-3a1ac492e20b",
   "metadata": {},
   "outputs": [],
   "source": [
    "from fowt_ml.pipeline import Pipeline"
   ]
  },
  {
   "cell_type": "code",
   "execution_count": 3,
   "id": "9668aa7e-d4b0-4029-8f51-2600484cbe99",
   "metadata": {},
   "outputs": [],
   "source": [
    "example_config_file = \"../../src/example_config.yml\""
   ]
  },
  {
   "cell_type": "code",
   "execution_count": 4,
   "id": "336fe93e-1c1d-4139-8bba-d9bf40ff85bf",
   "metadata": {},
   "outputs": [],
   "source": [
    "my_pipeline = Pipeline(example_config_file)"
   ]
  },
  {
   "cell_type": "code",
   "execution_count": 5,
   "id": "d723305b-6614-43ad-afd8-54a4e534ceb3",
   "metadata": {},
   "outputs": [],
   "source": [
    "# set correct path for mat file\n",
    "my_pipeline.config[\"data\"][\"exp699\"][\"mat_file\"] = \"../../../data/example/exp699.mat\""
   ]
  },
  {
   "cell_type": "code",
   "execution_count": 6,
   "id": "65883373-0964-4d01-88f4-74fcac69517e",
   "metadata": {},
   "outputs": [
    {
     "name": "stdout",
     "output_type": "stream",
     "text": [
      "<class 'pandas.core.frame.DataFrame'>\n",
      "RangeIndex: 327702 entries, 0 to 327701\n",
      "Columns: 125 entries, time to wind_speed\n",
      "dtypes: float64(125)\n",
      "memory usage: 312.5 MB\n"
     ]
    },
    {
     "data": {
      "text/html": [
       "<div>\n",
       "<style scoped>\n",
       "    .dataframe tbody tr th:only-of-type {\n",
       "        vertical-align: middle;\n",
       "    }\n",
       "\n",
       "    .dataframe tbody tr th {\n",
       "        vertical-align: top;\n",
       "    }\n",
       "\n",
       "    .dataframe thead th {\n",
       "        text-align: right;\n",
       "    }\n",
       "</style>\n",
       "<table border=\"1\" class=\"dataframe\">\n",
       "  <thead>\n",
       "    <tr style=\"text-align: right;\">\n",
       "      <th></th>\n",
       "      <th>time</th>\n",
       "      <th>acc_calc6[0]</th>\n",
       "      <th>acc_calc6[1]</th>\n",
       "      <th>acc_calc6[2]</th>\n",
       "      <th>acc_calc6[3]</th>\n",
       "      <th>acc_calc6[4]</th>\n",
       "      <th>acc_calc6[5]</th>\n",
       "      <th>acc_tb_meas3[0]</th>\n",
       "      <th>acc_tb_meas3[1]</th>\n",
       "      <th>acc_tb_meas3[2]</th>\n",
       "      <th>...</th>\n",
       "      <th>spd_rot_cmd</th>\n",
       "      <th>time_wave_precalc</th>\n",
       "      <th>tq_mot_act</th>\n",
       "      <th>trig_Hex_in</th>\n",
       "      <th>trig_PIV_in</th>\n",
       "      <th>trig_PIV_out</th>\n",
       "      <th>wtm2_spd_rot_act</th>\n",
       "      <th>wtm2_spd_tor_cmd</th>\n",
       "      <th>wtm2_tq_mot_act</th>\n",
       "      <th>wind_speed</th>\n",
       "    </tr>\n",
       "  </thead>\n",
       "  <tbody>\n",
       "    <tr>\n",
       "      <th>0</th>\n",
       "      <td>0.000000</td>\n",
       "      <td>-1.580219</td>\n",
       "      <td>0.135577</td>\n",
       "      <td>0.070342</td>\n",
       "      <td>-0.757244</td>\n",
       "      <td>-2.295318</td>\n",
       "      <td>-0.619591</td>\n",
       "      <td>-1.032135</td>\n",
       "      <td>0.214810</td>\n",
       "      <td>9.635009</td>\n",
       "      <td>...</td>\n",
       "      <td>474.0</td>\n",
       "      <td>29.406</td>\n",
       "      <td>-17.928282</td>\n",
       "      <td>0.999695</td>\n",
       "      <td>-0.000488</td>\n",
       "      <td>0.0</td>\n",
       "      <td>-470.274464</td>\n",
       "      <td>-474.0</td>\n",
       "      <td>40.714927</td>\n",
       "      <td>4.0</td>\n",
       "    </tr>\n",
       "    <tr>\n",
       "      <th>1</th>\n",
       "      <td>0.001000</td>\n",
       "      <td>-2.035639</td>\n",
       "      <td>0.705470</td>\n",
       "      <td>0.066672</td>\n",
       "      <td>-4.331129</td>\n",
       "      <td>-5.214741</td>\n",
       "      <td>-0.165520</td>\n",
       "      <td>-2.268602</td>\n",
       "      <td>-0.458810</td>\n",
       "      <td>7.425536</td>\n",
       "      <td>...</td>\n",
       "      <td>474.0</td>\n",
       "      <td>29.407</td>\n",
       "      <td>-29.986389</td>\n",
       "      <td>0.999969</td>\n",
       "      <td>-0.000336</td>\n",
       "      <td>0.0</td>\n",
       "      <td>-471.326827</td>\n",
       "      <td>-474.0</td>\n",
       "      <td>24.651387</td>\n",
       "      <td>4.0</td>\n",
       "    </tr>\n",
       "    <tr>\n",
       "      <th>2</th>\n",
       "      <td>0.001999</td>\n",
       "      <td>-2.114400</td>\n",
       "      <td>-0.785931</td>\n",
       "      <td>-0.044466</td>\n",
       "      <td>5.023345</td>\n",
       "      <td>-5.750528</td>\n",
       "      <td>-0.520829</td>\n",
       "      <td>-1.588994</td>\n",
       "      <td>-1.485706</td>\n",
       "      <td>6.823769</td>\n",
       "      <td>...</td>\n",
       "      <td>474.0</td>\n",
       "      <td>29.408</td>\n",
       "      <td>-14.466384</td>\n",
       "      <td>0.999695</td>\n",
       "      <td>-0.000610</td>\n",
       "      <td>0.0</td>\n",
       "      <td>-499.477522</td>\n",
       "      <td>-474.0</td>\n",
       "      <td>38.891995</td>\n",
       "      <td>4.0</td>\n",
       "    </tr>\n",
       "    <tr>\n",
       "      <th>3</th>\n",
       "      <td>0.003000</td>\n",
       "      <td>-2.179736</td>\n",
       "      <td>0.086170</td>\n",
       "      <td>0.448392</td>\n",
       "      <td>-0.444052</td>\n",
       "      <td>-6.337631</td>\n",
       "      <td>0.078678</td>\n",
       "      <td>0.279178</td>\n",
       "      <td>-1.889878</td>\n",
       "      <td>6.000455</td>\n",
       "      <td>...</td>\n",
       "      <td>474.0</td>\n",
       "      <td>29.409</td>\n",
       "      <td>-22.535783</td>\n",
       "      <td>0.999084</td>\n",
       "      <td>-0.000214</td>\n",
       "      <td>0.0</td>\n",
       "      <td>-470.800646</td>\n",
       "      <td>-474.0</td>\n",
       "      <td>25.997681</td>\n",
       "      <td>4.0</td>\n",
       "    </tr>\n",
       "    <tr>\n",
       "      <th>4</th>\n",
       "      <td>0.004000</td>\n",
       "      <td>-1.792539</td>\n",
       "      <td>-0.315190</td>\n",
       "      <td>0.253570</td>\n",
       "      <td>2.065519</td>\n",
       "      <td>-3.999853</td>\n",
       "      <td>0.206758</td>\n",
       "      <td>-1.349485</td>\n",
       "      <td>-1.129436</td>\n",
       "      <td>8.111131</td>\n",
       "      <td>...</td>\n",
       "      <td>474.0</td>\n",
       "      <td>29.410</td>\n",
       "      <td>-14.566729</td>\n",
       "      <td>0.999695</td>\n",
       "      <td>-0.000092</td>\n",
       "      <td>0.0</td>\n",
       "      <td>-471.589917</td>\n",
       "      <td>-474.0</td>\n",
       "      <td>29.576647</td>\n",
       "      <td>4.0</td>\n",
       "    </tr>\n",
       "  </tbody>\n",
       "</table>\n",
       "<p>5 rows × 125 columns</p>\n",
       "</div>"
      ],
      "text/plain": [
       "       time  acc_calc6[0]  acc_calc6[1]  acc_calc6[2]  acc_calc6[3]  \\\n",
       "0  0.000000     -1.580219      0.135577      0.070342     -0.757244   \n",
       "1  0.001000     -2.035639      0.705470      0.066672     -4.331129   \n",
       "2  0.001999     -2.114400     -0.785931     -0.044466      5.023345   \n",
       "3  0.003000     -2.179736      0.086170      0.448392     -0.444052   \n",
       "4  0.004000     -1.792539     -0.315190      0.253570      2.065519   \n",
       "\n",
       "   acc_calc6[4]  acc_calc6[5]  acc_tb_meas3[0]  acc_tb_meas3[1]  \\\n",
       "0     -2.295318     -0.619591        -1.032135         0.214810   \n",
       "1     -5.214741     -0.165520        -2.268602        -0.458810   \n",
       "2     -5.750528     -0.520829        -1.588994        -1.485706   \n",
       "3     -6.337631      0.078678         0.279178        -1.889878   \n",
       "4     -3.999853      0.206758        -1.349485        -1.129436   \n",
       "\n",
       "   acc_tb_meas3[2]  ...  spd_rot_cmd  time_wave_precalc  tq_mot_act  \\\n",
       "0         9.635009  ...        474.0             29.406  -17.928282   \n",
       "1         7.425536  ...        474.0             29.407  -29.986389   \n",
       "2         6.823769  ...        474.0             29.408  -14.466384   \n",
       "3         6.000455  ...        474.0             29.409  -22.535783   \n",
       "4         8.111131  ...        474.0             29.410  -14.566729   \n",
       "\n",
       "   trig_Hex_in  trig_PIV_in  trig_PIV_out  wtm2_spd_rot_act  wtm2_spd_tor_cmd  \\\n",
       "0     0.999695    -0.000488           0.0       -470.274464            -474.0   \n",
       "1     0.999969    -0.000336           0.0       -471.326827            -474.0   \n",
       "2     0.999695    -0.000610           0.0       -499.477522            -474.0   \n",
       "3     0.999084    -0.000214           0.0       -470.800646            -474.0   \n",
       "4     0.999695    -0.000092           0.0       -471.589917            -474.0   \n",
       "\n",
       "   wtm2_tq_mot_act  wind_speed  \n",
       "0        40.714927         4.0  \n",
       "1        24.651387         4.0  \n",
       "2        38.891995         4.0  \n",
       "3        25.997681         4.0  \n",
       "4        29.576647         4.0  \n",
       "\n",
       "[5 rows x 125 columns]"
      ]
     },
     "execution_count": 6,
     "metadata": {},
     "output_type": "execute_result"
    }
   ],
   "source": [
    "# get the data\n",
    "df = my_pipeline.get_data(\"exp699\")\n",
    "df.info()\n",
    "df.head()"
   ]
  },
  {
   "cell_type": "code",
   "execution_count": 7,
   "id": "02cdd9e1-a550-4678-83c3-42e372605dce",
   "metadata": {},
   "outputs": [
    {
     "data": {
      "text/plain": [
       "{'target': ['acc_tb_meas3[0]',\n",
       "  'acc_tb_meas3[1]',\n",
       "  'acc_tb_meas3[2]',\n",
       "  'acc_tt_meas3[0]',\n",
       "  'acc_tt_meas3[1]',\n",
       "  'acc_tt_meas3[2]',\n",
       "  'force_aero_est6[0]',\n",
       "  'force_aero_est6[1]',\n",
       "  'force_aero_est6[2]',\n",
       "  'force_aero_est6[3]',\n",
       "  'force_aero_est6[4]',\n",
       "  'force_aero_est6[5]',\n",
       "  'force_tt_meas6[0]',\n",
       "  'force_tt_meas6[1]',\n",
       "  'force_tt_meas6[2]',\n",
       "  'force_tt_meas6[3]',\n",
       "  'force_tt_meas6[4]',\n",
       "  'force_tt_meas6[5]'],\n",
       " 'predictors': ['pos_act6[0]',\n",
       "  'pos_act6[1]',\n",
       "  'pos_act6[2]',\n",
       "  'pos_act6[3]',\n",
       "  'pos_act6[4]',\n",
       "  'pos_act6[5]',\n",
       "  'spd_rot_act',\n",
       "  'wind_speed'],\n",
       " 'save_grid_scores': True,\n",
       " 'save_best_model': True,\n",
       " 'n_jobs': 2,\n",
       " 'use_gpu': False,\n",
       " 'train_size': 0.7,\n",
       " 'models': ['en', 'lar', 'llar', 'lasso', 'lr', 'ridge', 'omp', 'ransac'],\n",
       " 'metrics_sort': 'R2',\n",
       " 'system_log': './logs.log'}"
      ]
     },
     "execution_count": 7,
     "metadata": {},
     "output_type": "execute_result"
    }
   ],
   "source": [
    "# inspect ML setup\n",
    "my_pipeline.config[\"ml_setup\"]"
   ]
  },
  {
   "cell_type": "code",
   "execution_count": 8,
   "id": "03987d96-eb24-4d7b-972b-7d5b1688ed67",
   "metadata": {},
   "outputs": [],
   "source": [
    "import mlflow\n",
    "import mlflow.sklearn\n",
    "from sklearn.decomposition import PCA\n",
    "from sklearn.gaussian_process import GaussianProcessRegressor\n",
    "from sklearn.model_selection import train_test_split\n",
    "from sklearn.linear_model import Lars, Lasso, Ridge\n",
    "from sklearn.metrics import root_mean_squared_error"
   ]
  },
  {
   "cell_type": "code",
   "execution_count": 9,
   "id": "a34cba8b-4f34-4e0d-adf6-725087c6fa1d",
   "metadata": {},
   "outputs": [],
   "source": [
    "def train_and_log_model(model, model_name, batch_size=None):\n",
    "    with mlflow.start_run():\n",
    "        X_batch, y_batch = X_train, y_train\n",
    "        if batch_size != None:\n",
    "            X_batch, y_batch = X_train[:batch_size], y_train[:batch_size]\n",
    "\n",
    "        # Train the model\n",
    "        model.fit(X_batch, y_batch)\n",
    "        \n",
    "        # Predict the target\n",
    "        y_pred = model.predict(X_test)\n",
    "        \n",
    "        # Log model parameters and metrics\n",
    "        mlflow.log_param(\"model_name\", model_name)\n",
    "        mlflow.log_param(\"n_estimators\", model.n_estimators if hasattr(model, 'n_estimators') else None)\n",
    "        mlflow.log_param(\"max_depth\", model.max_depth if hasattr(model, 'max_depth') else None)\n",
    "        \n",
    "        # Calculate and log the performance metrics\n",
    "        rmse = root_mean_squared_error(y_test, y_pred)\n",
    "        mlflow.log_metric(\"rmse\", rmse)\n",
    "        \n",
    "        # Log the model itself\n",
    "        mlflow.sklearn.log_model(model, model_name)\n",
    "        \n",
    "        return rmse"
   ]
  },
  {
   "cell_type": "code",
   "execution_count": 10,
   "id": "24f8a649",
   "metadata": {},
   "outputs": [],
   "source": [
    "import pandas as pd\n",
    "\n",
    "def pca(df, variance=0.95):\n",
    "    # variance must be in (0,1)\n",
    "    pca = PCA(svd_solver=\"full\", n_components=variance)\n",
    "    pca.fit(df)\n",
    "    df_pc = pd.DataFrame(pca.transform(df))\n",
    "    return df_pc"
   ]
  },
  {
   "cell_type": "code",
   "execution_count": 11,
   "id": "23b1a399-6026-4705-bf67-24bfad96a43a",
   "metadata": {},
   "outputs": [],
   "source": [
    "models = [\n",
    "    (GaussianProcessRegressor(), \"GaussianProcessRegressor\"),\n",
    "    (Lars(), \"LeastAngleRegression\"),\n",
    "    (Lasso(), \"LassoRegression\"),\n",
    "    (Ridge(), \"RidgeRegression\")\n",
    "]\n",
    "\n",
    "# Dictionary to store model performances\n",
    "model_performances = {}\n",
    "\n",
    "predictors_labels = my_pipeline.config[\"ml_setup\"][\"predictors\"]\n",
    "target_labels = my_pipeline.config[\"ml_setup\"][\"target\"]\n",
    "\n",
    "X_data = df[predictors_labels]\n",
    "Y_data = df[target_labels]"
   ]
  },
  {
   "cell_type": "code",
   "execution_count": 14,
   "id": "14442af3",
   "metadata": {},
   "outputs": [],
   "source": [
    "X_train, X_test, y_train, y_test = train_test_split(X_data, Y_data, test_size=0.75, shuffle=False, random_state=123) # TODO set test_size to 0.25"
   ]
  },
  {
   "cell_type": "code",
   "execution_count": 24,
   "id": "0efeb415",
   "metadata": {},
   "outputs": [
    {
     "ename": "MemoryError",
     "evalue": "Unable to allocate 50.0 GiB for an array with shape (81925, 81925) and data type float64",
     "output_type": "error",
     "traceback": [
      "\u001b[0;31m---------------------------------------------------------------------------\u001b[0m",
      "\u001b[0;31mMemoryError\u001b[0m                               Traceback (most recent call last)",
      "File \u001b[0;32m<timed exec>:3\u001b[0m\n",
      "Cell \u001b[0;32mIn[9], line 8\u001b[0m, in \u001b[0;36mtrain_and_log_model\u001b[0;34m(model, model_name, batch_size)\u001b[0m\n\u001b[1;32m      5\u001b[0m     X_batch, y_batch \u001b[38;5;241m=\u001b[39m X_train[:batch_size], y_train[:batch_size]\n\u001b[1;32m      7\u001b[0m \u001b[38;5;66;03m# Train the model\u001b[39;00m\n\u001b[0;32m----> 8\u001b[0m \u001b[43mmodel\u001b[49m\u001b[38;5;241;43m.\u001b[39;49m\u001b[43mfit\u001b[49m\u001b[43m(\u001b[49m\u001b[43mX_batch\u001b[49m\u001b[43m,\u001b[49m\u001b[43m \u001b[49m\u001b[43my_batch\u001b[49m\u001b[43m)\u001b[49m\n\u001b[1;32m     10\u001b[0m \u001b[38;5;66;03m# Predict the target\u001b[39;00m\n\u001b[1;32m     11\u001b[0m y_pred \u001b[38;5;241m=\u001b[39m model\u001b[38;5;241m.\u001b[39mpredict(X_test)\n",
      "File \u001b[0;32m/storage/miniforge3/envs/hybridlabs/lib/python3.13/site-packages/sklearn/base.py:1389\u001b[0m, in \u001b[0;36m_fit_context.<locals>.decorator.<locals>.wrapper\u001b[0;34m(estimator, *args, **kwargs)\u001b[0m\n\u001b[1;32m   1382\u001b[0m     estimator\u001b[38;5;241m.\u001b[39m_validate_params()\n\u001b[1;32m   1384\u001b[0m \u001b[38;5;28;01mwith\u001b[39;00m config_context(\n\u001b[1;32m   1385\u001b[0m     skip_parameter_validation\u001b[38;5;241m=\u001b[39m(\n\u001b[1;32m   1386\u001b[0m         prefer_skip_nested_validation \u001b[38;5;129;01mor\u001b[39;00m global_skip_validation\n\u001b[1;32m   1387\u001b[0m     )\n\u001b[1;32m   1388\u001b[0m ):\n\u001b[0;32m-> 1389\u001b[0m     \u001b[38;5;28;01mreturn\u001b[39;00m \u001b[43mfit_method\u001b[49m\u001b[43m(\u001b[49m\u001b[43mestimator\u001b[49m\u001b[43m,\u001b[49m\u001b[43m \u001b[49m\u001b[38;5;241;43m*\u001b[39;49m\u001b[43margs\u001b[49m\u001b[43m,\u001b[49m\u001b[43m \u001b[49m\u001b[38;5;241;43m*\u001b[39;49m\u001b[38;5;241;43m*\u001b[39;49m\u001b[43mkwargs\u001b[49m\u001b[43m)\u001b[49m\n",
      "File \u001b[0;32m/storage/miniforge3/envs/hybridlabs/lib/python3.13/site-packages/sklearn/gaussian_process/_gpr.py:336\u001b[0m, in \u001b[0;36mGaussianProcessRegressor.fit\u001b[0;34m(self, X, y)\u001b[0m\n\u001b[1;32m    334\u001b[0m     \u001b[38;5;28mself\u001b[39m\u001b[38;5;241m.\u001b[39mlog_marginal_likelihood_value_ \u001b[38;5;241m=\u001b[39m \u001b[38;5;241m-\u001b[39mnp\u001b[38;5;241m.\u001b[39mmin(lml_values)\n\u001b[1;32m    335\u001b[0m \u001b[38;5;28;01melse\u001b[39;00m:\n\u001b[0;32m--> 336\u001b[0m     \u001b[38;5;28mself\u001b[39m\u001b[38;5;241m.\u001b[39mlog_marginal_likelihood_value_ \u001b[38;5;241m=\u001b[39m \u001b[38;5;28;43mself\u001b[39;49m\u001b[38;5;241;43m.\u001b[39;49m\u001b[43mlog_marginal_likelihood\u001b[49m\u001b[43m(\u001b[49m\n\u001b[1;32m    337\u001b[0m \u001b[43m        \u001b[49m\u001b[38;5;28;43mself\u001b[39;49m\u001b[38;5;241;43m.\u001b[39;49m\u001b[43mkernel_\u001b[49m\u001b[38;5;241;43m.\u001b[39;49m\u001b[43mtheta\u001b[49m\u001b[43m,\u001b[49m\u001b[43m \u001b[49m\u001b[43mclone_kernel\u001b[49m\u001b[38;5;241;43m=\u001b[39;49m\u001b[38;5;28;43;01mFalse\u001b[39;49;00m\n\u001b[1;32m    338\u001b[0m \u001b[43m    \u001b[49m\u001b[43m)\u001b[49m\n\u001b[1;32m    340\u001b[0m \u001b[38;5;66;03m# Precompute quantities required for predictions which are independent\u001b[39;00m\n\u001b[1;32m    341\u001b[0m \u001b[38;5;66;03m# of actual query points\u001b[39;00m\n\u001b[1;32m    342\u001b[0m \u001b[38;5;66;03m# Alg. 2.1, page 19, line 2 -> L = cholesky(K + sigma^2 I)\u001b[39;00m\n\u001b[1;32m    343\u001b[0m K \u001b[38;5;241m=\u001b[39m \u001b[38;5;28mself\u001b[39m\u001b[38;5;241m.\u001b[39mkernel_(\u001b[38;5;28mself\u001b[39m\u001b[38;5;241m.\u001b[39mX_train_)\n",
      "File \u001b[0;32m/storage/miniforge3/envs/hybridlabs/lib/python3.13/site-packages/sklearn/gaussian_process/_gpr.py:579\u001b[0m, in \u001b[0;36mGaussianProcessRegressor.log_marginal_likelihood\u001b[0;34m(self, theta, eval_gradient, clone_kernel)\u001b[0m\n\u001b[1;32m    577\u001b[0m     K, K_gradient \u001b[38;5;241m=\u001b[39m kernel(\u001b[38;5;28mself\u001b[39m\u001b[38;5;241m.\u001b[39mX_train_, eval_gradient\u001b[38;5;241m=\u001b[39m\u001b[38;5;28;01mTrue\u001b[39;00m)\n\u001b[1;32m    578\u001b[0m \u001b[38;5;28;01melse\u001b[39;00m:\n\u001b[0;32m--> 579\u001b[0m     K \u001b[38;5;241m=\u001b[39m \u001b[43mkernel\u001b[49m\u001b[43m(\u001b[49m\u001b[38;5;28;43mself\u001b[39;49m\u001b[38;5;241;43m.\u001b[39;49m\u001b[43mX_train_\u001b[49m\u001b[43m)\u001b[49m\n\u001b[1;32m    581\u001b[0m \u001b[38;5;66;03m# Alg. 2.1, page 19, line 2 -> L = cholesky(K + sigma^2 I)\u001b[39;00m\n\u001b[1;32m    582\u001b[0m K[np\u001b[38;5;241m.\u001b[39mdiag_indices_from(K)] \u001b[38;5;241m+\u001b[39m\u001b[38;5;241m=\u001b[39m \u001b[38;5;28mself\u001b[39m\u001b[38;5;241m.\u001b[39malpha\n",
      "File \u001b[0;32m/storage/miniforge3/envs/hybridlabs/lib/python3.13/site-packages/sklearn/gaussian_process/kernels.py:968\u001b[0m, in \u001b[0;36mProduct.__call__\u001b[0;34m(self, X, Y, eval_gradient)\u001b[0m\n\u001b[1;32m    964\u001b[0m     \u001b[38;5;28;01mreturn\u001b[39;00m K1 \u001b[38;5;241m*\u001b[39m K2, np\u001b[38;5;241m.\u001b[39mdstack(\n\u001b[1;32m    965\u001b[0m         (K1_gradient \u001b[38;5;241m*\u001b[39m K2[:, :, np\u001b[38;5;241m.\u001b[39mnewaxis], K2_gradient \u001b[38;5;241m*\u001b[39m K1[:, :, np\u001b[38;5;241m.\u001b[39mnewaxis])\n\u001b[1;32m    966\u001b[0m     )\n\u001b[1;32m    967\u001b[0m \u001b[38;5;28;01melse\u001b[39;00m:\n\u001b[0;32m--> 968\u001b[0m     \u001b[38;5;28;01mreturn\u001b[39;00m \u001b[38;5;28;43mself\u001b[39;49m\u001b[38;5;241;43m.\u001b[39;49m\u001b[43mk1\u001b[49m\u001b[43m(\u001b[49m\u001b[43mX\u001b[49m\u001b[43m,\u001b[49m\u001b[43m \u001b[49m\u001b[43mY\u001b[49m\u001b[43m)\u001b[49m \u001b[38;5;241m*\u001b[39m \u001b[38;5;28mself\u001b[39m\u001b[38;5;241m.\u001b[39mk2(X, Y)\n",
      "File \u001b[0;32m/storage/miniforge3/envs/hybridlabs/lib/python3.13/site-packages/sklearn/gaussian_process/kernels.py:1275\u001b[0m, in \u001b[0;36mConstantKernel.__call__\u001b[0;34m(self, X, Y, eval_gradient)\u001b[0m\n\u001b[1;32m   1272\u001b[0m \u001b[38;5;28;01melif\u001b[39;00m eval_gradient:\n\u001b[1;32m   1273\u001b[0m     \u001b[38;5;28;01mraise\u001b[39;00m \u001b[38;5;167;01mValueError\u001b[39;00m(\u001b[38;5;124m\"\u001b[39m\u001b[38;5;124mGradient can only be evaluated when Y is None.\u001b[39m\u001b[38;5;124m\"\u001b[39m)\n\u001b[0;32m-> 1275\u001b[0m K \u001b[38;5;241m=\u001b[39m \u001b[43mnp\u001b[49m\u001b[38;5;241;43m.\u001b[39;49m\u001b[43mfull\u001b[49m\u001b[43m(\u001b[49m\n\u001b[1;32m   1276\u001b[0m \u001b[43m    \u001b[49m\u001b[43m(\u001b[49m\u001b[43m_num_samples\u001b[49m\u001b[43m(\u001b[49m\u001b[43mX\u001b[49m\u001b[43m)\u001b[49m\u001b[43m,\u001b[49m\u001b[43m \u001b[49m\u001b[43m_num_samples\u001b[49m\u001b[43m(\u001b[49m\u001b[43mY\u001b[49m\u001b[43m)\u001b[49m\u001b[43m)\u001b[49m\u001b[43m,\u001b[49m\n\u001b[1;32m   1277\u001b[0m \u001b[43m    \u001b[49m\u001b[38;5;28;43mself\u001b[39;49m\u001b[38;5;241;43m.\u001b[39;49m\u001b[43mconstant_value\u001b[49m\u001b[43m,\u001b[49m\n\u001b[1;32m   1278\u001b[0m \u001b[43m    \u001b[49m\u001b[43mdtype\u001b[49m\u001b[38;5;241;43m=\u001b[39;49m\u001b[43mnp\u001b[49m\u001b[38;5;241;43m.\u001b[39;49m\u001b[43marray\u001b[49m\u001b[43m(\u001b[49m\u001b[38;5;28;43mself\u001b[39;49m\u001b[38;5;241;43m.\u001b[39;49m\u001b[43mconstant_value\u001b[49m\u001b[43m)\u001b[49m\u001b[38;5;241;43m.\u001b[39;49m\u001b[43mdtype\u001b[49m\u001b[43m,\u001b[49m\n\u001b[1;32m   1279\u001b[0m \u001b[43m\u001b[49m\u001b[43m)\u001b[49m\n\u001b[1;32m   1280\u001b[0m \u001b[38;5;28;01mif\u001b[39;00m eval_gradient:\n\u001b[1;32m   1281\u001b[0m     \u001b[38;5;28;01mif\u001b[39;00m \u001b[38;5;129;01mnot\u001b[39;00m \u001b[38;5;28mself\u001b[39m\u001b[38;5;241m.\u001b[39mhyperparameter_constant_value\u001b[38;5;241m.\u001b[39mfixed:\n",
      "File \u001b[0;32m/storage/miniforge3/envs/hybridlabs/lib/python3.13/site-packages/numpy/_core/numeric.py:352\u001b[0m, in \u001b[0;36mfull\u001b[0;34m(shape, fill_value, dtype, order, device, like)\u001b[0m\n\u001b[1;32m    350\u001b[0m     fill_value \u001b[38;5;241m=\u001b[39m asarray(fill_value)\n\u001b[1;32m    351\u001b[0m     dtype \u001b[38;5;241m=\u001b[39m fill_value\u001b[38;5;241m.\u001b[39mdtype\n\u001b[0;32m--> 352\u001b[0m a \u001b[38;5;241m=\u001b[39m \u001b[43mempty\u001b[49m\u001b[43m(\u001b[49m\u001b[43mshape\u001b[49m\u001b[43m,\u001b[49m\u001b[43m \u001b[49m\u001b[43mdtype\u001b[49m\u001b[43m,\u001b[49m\u001b[43m \u001b[49m\u001b[43morder\u001b[49m\u001b[43m,\u001b[49m\u001b[43m \u001b[49m\u001b[43mdevice\u001b[49m\u001b[38;5;241;43m=\u001b[39;49m\u001b[43mdevice\u001b[49m\u001b[43m)\u001b[49m\n\u001b[1;32m    353\u001b[0m multiarray\u001b[38;5;241m.\u001b[39mcopyto(a, fill_value, casting\u001b[38;5;241m=\u001b[39m\u001b[38;5;124m'\u001b[39m\u001b[38;5;124munsafe\u001b[39m\u001b[38;5;124m'\u001b[39m)\n\u001b[1;32m    354\u001b[0m \u001b[38;5;28;01mreturn\u001b[39;00m a\n",
      "\u001b[0;31mMemoryError\u001b[0m: Unable to allocate 50.0 GiB for an array with shape (81925, 81925) and data type float64"
     ]
    }
   ],
   "source": [
    "%%time\n",
    "# Train, log models, and compare performance\n",
    "for model, name in models:\n",
    "    rmse = train_and_log_model(model, name)\n",
    "    model_performances[name] = rmse\n",
    "print(model_performances)"
   ]
  },
  {
   "cell_type": "markdown",
   "id": "4b5bed51",
   "metadata": {},
   "source": [
    "Notes on using GaussianProcessRegressor.\n",
    "\n",
    "1. Using it naively on the example data tries to create an NxN matrix, where N is the number of observations (81925). This matrix is 50 GiB and does not fit in memory.\n",
    "    The reason is likely that the Gaussian process needs to estimate covariance matrices over the whole input space and this process is not sparse.\n",
    "2. One suggestion was to set the copy_X_train argument to False. However, this does not stop that matrix from being allocated and giving a MemoryError.\n",
    "3. Another suggestion was to work in batches. Unfortunately, GaussianProcessRegressor does not support online learning.\n",
    "    https://stackoverflow.com/questions/61025487/gaussian-process-regression-incremental-learning has an example of retraining GPR; this may require tweaking the stopping condition between training sessions.\n",
    "    https://github.com/Bigpig4396/Incremental-Gaussian-Process-Regression-IGPR has an implementation of incremental GPR. However, this may be an implementation only for specific kernels; the code mentions the squared exponential kernel."
   ]
  },
  {
   "cell_type": "code",
   "execution_count": 15,
   "id": "f060a107",
   "metadata": {},
   "outputs": [],
   "source": [
    "import datetime"
   ]
  },
  {
   "cell_type": "code",
   "execution_count": 16,
   "id": "6dbb44c5",
   "metadata": {},
   "outputs": [
    {
     "name": "stderr",
     "output_type": "stream",
     "text": [
      "\u001b[31m2025/01/23 15:21:51 WARNING mlflow.models.model: Model logged without a signature and input example. Please set `input_example` parameter when logging the model to auto infer the model signature.\u001b[0m\n"
     ]
    },
    {
     "name": "stdout",
     "output_type": "stream",
     "text": [
      "runtime GaussianProcessRegressor: 0:00:35.222997\n"
     ]
    },
    {
     "name": "stderr",
     "output_type": "stream",
     "text": [
      "\u001b[31m2025/01/23 15:21:56 WARNING mlflow.models.model: Model logged without a signature and input example. Please set `input_example` parameter when logging the model to auto infer the model signature.\u001b[0m\n"
     ]
    },
    {
     "name": "stdout",
     "output_type": "stream",
     "text": [
      "runtime LeastAngleRegression: 0:00:04.654092\n"
     ]
    },
    {
     "name": "stderr",
     "output_type": "stream",
     "text": [
      "\u001b[31m2025/01/23 15:22:01 WARNING mlflow.models.model: Model logged without a signature and input example. Please set `input_example` parameter when logging the model to auto infer the model signature.\u001b[0m\n"
     ]
    },
    {
     "name": "stdout",
     "output_type": "stream",
     "text": [
      "runtime LassoRegression: 0:00:04.776032\n"
     ]
    },
    {
     "name": "stderr",
     "output_type": "stream",
     "text": [
      "\u001b[31m2025/01/23 15:22:05 WARNING mlflow.models.model: Model logged without a signature and input example. Please set `input_example` parameter when logging the model to auto infer the model signature.\u001b[0m\n"
     ]
    },
    {
     "name": "stdout",
     "output_type": "stream",
     "text": [
      "runtime RidgeRegression: 0:00:04.924166\n",
      "{'GaussianProcessRegressor': 440.77206120259626, 'LeastAngleRegression': 87.73582019678052, 'LassoRegression': 10.168372461292385, 'RidgeRegression': 15.372045858602714}\n",
      "CPU times: user 20.3 s, sys: 23.7 s, total: 44 s\n",
      "Wall time: 49.6 s\n"
     ]
    }
   ],
   "source": [
    "%%time\n",
    "# Train, log models, and compare performance\n",
    "for model, name in models:\n",
    "    start_time = datetime.datetime.now()\n",
    "    rmse = train_and_log_model(model, name, 500)\n",
    "    model_performances[name] = rmse\n",
    "    end_time = datetime.datetime.now()\n",
    "    print(f\"runtime {name}: {end_time-start_time}\")\n",
    "print(model_performances)"
   ]
  },
  {
   "cell_type": "code",
   "execution_count": 17,
   "id": "bd17bf46",
   "metadata": {},
   "outputs": [
    {
     "name": "stderr",
     "output_type": "stream",
     "text": [
      "\u001b[31m2025/01/23 15:22:42 WARNING mlflow.models.model: Model logged without a signature and input example. Please set `input_example` parameter when logging the model to auto infer the model signature.\u001b[0m\n"
     ]
    },
    {
     "name": "stdout",
     "output_type": "stream",
     "text": [
      "runtime GaussianProcessRegressor: 0:00:33.401200\n"
     ]
    },
    {
     "name": "stderr",
     "output_type": "stream",
     "text": [
      "\u001b[31m2025/01/23 15:22:46 WARNING mlflow.models.model: Model logged without a signature and input example. Please set `input_example` parameter when logging the model to auto infer the model signature.\u001b[0m\n"
     ]
    },
    {
     "name": "stdout",
     "output_type": "stream",
     "text": [
      "runtime LeastAngleRegression: 0:00:04.151744\n"
     ]
    },
    {
     "name": "stderr",
     "output_type": "stream",
     "text": [
      "\u001b[31m2025/01/23 15:22:50 WARNING mlflow.models.model: Model logged without a signature and input example. Please set `input_example` parameter when logging the model to auto infer the model signature.\u001b[0m\n"
     ]
    },
    {
     "name": "stdout",
     "output_type": "stream",
     "text": [
      "runtime LassoRegression: 0:00:04.512727\n"
     ]
    },
    {
     "name": "stderr",
     "output_type": "stream",
     "text": [
      "\u001b[31m2025/01/23 15:22:55 WARNING mlflow.models.model: Model logged without a signature and input example. Please set `input_example` parameter when logging the model to auto infer the model signature.\u001b[0m\n"
     ]
    },
    {
     "name": "stdout",
     "output_type": "stream",
     "text": [
      "runtime RidgeRegression: 0:00:04.463954\n",
      "{'GaussianProcessRegressor': 576.1136473231086, 'LeastAngleRegression': 86.73288668038944, 'LassoRegression': 9.074332656829165, 'RidgeRegression': 10.863722169466321}\n",
      "CPU times: user 27.9 s, sys: 21.8 s, total: 49.7 s\n",
      "Wall time: 46.5 s\n"
     ]
    }
   ],
   "source": [
    "%%time\n",
    "# Train, log models, and compare performance\n",
    "for model, name in models:\n",
    "    start_time = datetime.datetime.now()\n",
    "    rmse = train_and_log_model(model, name, 600)\n",
    "    model_performances[name] = rmse\n",
    "    end_time = datetime.datetime.now()\n",
    "    print(f\"runtime {name}: {end_time-start_time}\")\n",
    "print(model_performances)"
   ]
  },
  {
   "cell_type": "code",
   "execution_count": 18,
   "id": "c6fa86b0",
   "metadata": {},
   "outputs": [
    {
     "name": "stderr",
     "output_type": "stream",
     "text": [
      "\u001b[31m2025/01/23 15:23:33 WARNING mlflow.models.model: Model logged without a signature and input example. Please set `input_example` parameter when logging the model to auto infer the model signature.\u001b[0m\n"
     ]
    },
    {
     "name": "stdout",
     "output_type": "stream",
     "text": [
      "runtime GaussianProcessRegressor: 0:00:38.461666\n"
     ]
    },
    {
     "name": "stderr",
     "output_type": "stream",
     "text": [
      "\u001b[31m2025/01/23 15:23:39 WARNING mlflow.models.model: Model logged without a signature and input example. Please set `input_example` parameter when logging the model to auto infer the model signature.\u001b[0m\n"
     ]
    },
    {
     "name": "stdout",
     "output_type": "stream",
     "text": [
      "runtime LeastAngleRegression: 0:00:06.167855\n"
     ]
    },
    {
     "name": "stderr",
     "output_type": "stream",
     "text": [
      "\u001b[31m2025/01/23 15:23:44 WARNING mlflow.models.model: Model logged without a signature and input example. Please set `input_example` parameter when logging the model to auto infer the model signature.\u001b[0m\n"
     ]
    },
    {
     "name": "stdout",
     "output_type": "stream",
     "text": [
      "runtime LassoRegression: 0:00:04.303331\n"
     ]
    },
    {
     "name": "stderr",
     "output_type": "stream",
     "text": [
      "\u001b[31m2025/01/23 15:23:48 WARNING mlflow.models.model: Model logged without a signature and input example. Please set `input_example` parameter when logging the model to auto infer the model signature.\u001b[0m\n"
     ]
    },
    {
     "name": "stdout",
     "output_type": "stream",
     "text": [
      "runtime RidgeRegression: 0:00:04.145896\n",
      "{'GaussianProcessRegressor': 648.4373856966664, 'LeastAngleRegression': 49.9732929145126, 'LassoRegression': 9.11254608623855, 'RidgeRegression': 12.007957335690193}\n",
      "CPU times: user 29 s, sys: 24.7 s, total: 53.7 s\n",
      "Wall time: 53.1 s\n"
     ]
    }
   ],
   "source": [
    "%%time\n",
    "# Train, log models, and compare performance\n",
    "for model, name in models:\n",
    "    start_time = datetime.datetime.now()\n",
    "    rmse = train_and_log_model(model, name, 700)\n",
    "    model_performances[name] = rmse\n",
    "    end_time = datetime.datetime.now()\n",
    "    print(f\"runtime {name}: {end_time-start_time}\")\n",
    "print(model_performances)"
   ]
  },
  {
   "cell_type": "code",
   "execution_count": 20,
   "id": "6327e8ec",
   "metadata": {},
   "outputs": [
    {
     "name": "stderr",
     "output_type": "stream",
     "text": [
      "\u001b[31m2025/01/23 15:26:54 WARNING mlflow.models.model: Model logged without a signature and input example. Please set `input_example` parameter when logging the model to auto infer the model signature.\u001b[0m\n"
     ]
    },
    {
     "name": "stdout",
     "output_type": "stream",
     "text": [
      "runtime GaussianProcessRegressor: 0:01:16.418097\n"
     ]
    },
    {
     "name": "stderr",
     "output_type": "stream",
     "text": [
      "\u001b[31m2025/01/23 15:26:59 WARNING mlflow.models.model: Model logged without a signature and input example. Please set `input_example` parameter when logging the model to auto infer the model signature.\u001b[0m\n"
     ]
    },
    {
     "name": "stdout",
     "output_type": "stream",
     "text": [
      "runtime LeastAngleRegression: 0:00:04.905509\n"
     ]
    },
    {
     "name": "stderr",
     "output_type": "stream",
     "text": [
      "\u001b[31m2025/01/23 15:27:04 WARNING mlflow.models.model: Model logged without a signature and input example. Please set `input_example` parameter when logging the model to auto infer the model signature.\u001b[0m\n"
     ]
    },
    {
     "name": "stdout",
     "output_type": "stream",
     "text": [
      "runtime LassoRegression: 0:00:05.171165\n"
     ]
    },
    {
     "name": "stderr",
     "output_type": "stream",
     "text": [
      "\u001b[31m2025/01/23 15:27:09 WARNING mlflow.models.model: Model logged without a signature and input example. Please set `input_example` parameter when logging the model to auto infer the model signature.\u001b[0m\n"
     ]
    },
    {
     "name": "stdout",
     "output_type": "stream",
     "text": [
      "runtime RidgeRegression: 0:00:04.784623\n",
      "{'GaussianProcessRegressor': 1124.102375066762, 'LeastAngleRegression': 74.59235570347981, 'LassoRegression': 8.167064522319412, 'RidgeRegression': 12.287142024965288}\n",
      "CPU times: user 40.5 s, sys: 31.6 s, total: 1min 12s\n",
      "Wall time: 1min 31s\n"
     ]
    }
   ],
   "source": [
    "%%time\n",
    "# Train, log models, and compare performance\n",
    "for model, name in models:\n",
    "    start_time = datetime.datetime.now()\n",
    "    rmse = train_and_log_model(model, name, 800)\n",
    "    model_performances[name] = rmse\n",
    "    end_time = datetime.datetime.now()\n",
    "    print(f\"runtime {name}: {end_time-start_time}\")\n",
    "print(model_performances)"
   ]
  },
  {
   "cell_type": "code",
   "execution_count": 21,
   "id": "c748c98d",
   "metadata": {},
   "outputs": [
    {
     "name": "stderr",
     "output_type": "stream",
     "text": [
      "\u001b[31m2025/01/23 15:27:57 WARNING mlflow.models.model: Model logged without a signature and input example. Please set `input_example` parameter when logging the model to auto infer the model signature.\u001b[0m\n"
     ]
    },
    {
     "name": "stdout",
     "output_type": "stream",
     "text": [
      "runtime GaussianProcessRegressor: 0:00:47.915317\n"
     ]
    },
    {
     "name": "stderr",
     "output_type": "stream",
     "text": [
      "\u001b[31m2025/01/23 15:28:02 WARNING mlflow.models.model: Model logged without a signature and input example. Please set `input_example` parameter when logging the model to auto infer the model signature.\u001b[0m\n"
     ]
    },
    {
     "name": "stdout",
     "output_type": "stream",
     "text": [
      "runtime LeastAngleRegression: 0:00:05.124493\n"
     ]
    },
    {
     "name": "stderr",
     "output_type": "stream",
     "text": [
      "\u001b[31m2025/01/23 15:28:07 WARNING mlflow.models.model: Model logged without a signature and input example. Please set `input_example` parameter when logging the model to auto infer the model signature.\u001b[0m\n"
     ]
    },
    {
     "name": "stdout",
     "output_type": "stream",
     "text": [
      "runtime LassoRegression: 0:00:05.408109\n"
     ]
    },
    {
     "name": "stderr",
     "output_type": "stream",
     "text": [
      "\u001b[31m2025/01/23 15:28:13 WARNING mlflow.models.model: Model logged without a signature and input example. Please set `input_example` parameter when logging the model to auto infer the model signature.\u001b[0m\n"
     ]
    },
    {
     "name": "stdout",
     "output_type": "stream",
     "text": [
      "runtime RidgeRegression: 0:00:05.234294\n",
      "{'GaussianProcessRegressor': 1198.0376752865473, 'LeastAngleRegression': 11.012585531817273, 'LassoRegression': 7.442159867472665, 'RidgeRegression': 8.002792319619367}\n",
      "CPU times: user 40.1 s, sys: 27.9 s, total: 1min 8s\n",
      "Wall time: 1min 3s\n"
     ]
    }
   ],
   "source": [
    "%%time\n",
    "# Train, log models, and compare performance\n",
    "for model, name in models:\n",
    "    start_time = datetime.datetime.now()\n",
    "    rmse = train_and_log_model(model, name, 900)\n",
    "    model_performances[name] = rmse\n",
    "    end_time = datetime.datetime.now()\n",
    "    print(f\"runtime {name}: {end_time-start_time}\")\n",
    "print(model_performances)"
   ]
  },
  {
   "cell_type": "code",
   "execution_count": 19,
   "id": "e19dd7bf-0253-44de-a280-429b03e77625",
   "metadata": {},
   "outputs": [
    {
     "name": "stderr",
     "output_type": "stream",
     "text": [
      "\u001b[31m2025/01/23 15:25:12 WARNING mlflow.models.model: Model logged without a signature and input example. Please set `input_example` parameter when logging the model to auto infer the model signature.\u001b[0m\n"
     ]
    },
    {
     "name": "stdout",
     "output_type": "stream",
     "text": [
      "runtime GaussianProcessRegressor: 0:01:24.299852\n"
     ]
    },
    {
     "name": "stderr",
     "output_type": "stream",
     "text": [
      "\u001b[31m2025/01/23 15:25:17 WARNING mlflow.models.model: Model logged without a signature and input example. Please set `input_example` parameter when logging the model to auto infer the model signature.\u001b[0m\n"
     ]
    },
    {
     "name": "stdout",
     "output_type": "stream",
     "text": [
      "runtime LeastAngleRegression: 0:00:04.445656\n"
     ]
    },
    {
     "name": "stderr",
     "output_type": "stream",
     "text": [
      "\u001b[31m2025/01/23 15:25:21 WARNING mlflow.models.model: Model logged without a signature and input example. Please set `input_example` parameter when logging the model to auto infer the model signature.\u001b[0m\n"
     ]
    },
    {
     "name": "stdout",
     "output_type": "stream",
     "text": [
      "runtime LassoRegression: 0:00:04.325984\n"
     ]
    },
    {
     "name": "stderr",
     "output_type": "stream",
     "text": [
      "\u001b[31m2025/01/23 15:25:25 WARNING mlflow.models.model: Model logged without a signature and input example. Please set `input_example` parameter when logging the model to auto infer the model signature.\u001b[0m\n"
     ]
    },
    {
     "name": "stdout",
     "output_type": "stream",
     "text": [
      "runtime RidgeRegression: 0:00:04.338389\n",
      "{'GaussianProcessRegressor': 1200.2397125891844, 'LeastAngleRegression': 9.17764643205609, 'LassoRegression': 6.123109267875933, 'RidgeRegression': 7.699702437844231}\n",
      "CPU times: user 55.6 s, sys: 35.9 s, total: 1min 31s\n",
      "Wall time: 1min 37s\n"
     ]
    }
   ],
   "source": [
    "%%time\n",
    "# Train, log models, and compare performance\n",
    "for model, name in models:\n",
    "    start_time = datetime.datetime.now()\n",
    "    rmse = train_and_log_model(model, name, 1000)\n",
    "    model_performances[name] = rmse\n",
    "    end_time = datetime.datetime.now()\n",
    "    print(f\"runtime {name}: {end_time-start_time}\")\n",
    "print(model_performances)"
   ]
  },
  {
   "cell_type": "markdown",
   "id": "f00429a8",
   "metadata": {},
   "source": [
    "Notes on batch training in the context of GPR.\n",
    "\n",
    "GPR can be trained on smaller datasets, fixing the MemoryError.\n",
    "However, the processing time ramps up very steeply, going from around 30 seconds at 500 observations to 90 seconds at 1000 observations.\n",
    "What's worse: the RMS error on the test set are atrocious compared to the compared regressions."
   ]
  },
  {
   "cell_type": "code",
   "execution_count": null,
   "id": "66edce0f-32a0-4583-b8b1-c77969e2db9e",
   "metadata": {},
   "outputs": [],
   "source": []
  }
 ],
 "metadata": {
  "kernelspec": {
   "display_name": "hybridlabs",
   "language": "python",
   "name": "python3"
  },
  "language_info": {
   "codemirror_mode": {
    "name": "ipython",
    "version": 3
   },
   "file_extension": ".py",
   "mimetype": "text/x-python",
   "name": "python",
   "nbconvert_exporter": "python",
   "pygments_lexer": "ipython3",
   "version": "3.13.1"
  }
 },
 "nbformat": 4,
 "nbformat_minor": 5
}
