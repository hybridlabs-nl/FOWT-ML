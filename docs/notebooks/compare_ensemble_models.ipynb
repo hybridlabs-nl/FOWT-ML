{
 "cells": [
  {
   "cell_type": "code",
   "execution_count": 1,
   "metadata": {},
   "outputs": [],
   "source": [
    "from sklearn.model_selection import cross_val_score, train_test_split\n",
    "\n",
    "from fowt_ml.datasets import convert_mat_to_df\n",
    "from fowt_ml.ensemble import EnsembleModel"
   ]
  },
  {
   "cell_type": "markdown",
   "metadata": {},
   "source": [
    "# Fit a Random Forest Estimator"
   ]
  },
  {
   "cell_type": "markdown",
   "metadata": {},
   "source": [
    "Load and fix the dataset:"
   ]
  },
  {
   "cell_type": "code",
   "execution_count": 2,
   "metadata": {},
   "outputs": [],
   "source": [
    "data_path = \"../../data/exp699_032024_TUDelft/exp699.mat\"\n",
    "data = convert_mat_to_df(data_path, \"exp699\")\n",
    "data[\"wind_speed\"] = 4.  # add attribute as a feature"
   ]
  },
  {
   "cell_type": "markdown",
   "metadata": {},
   "source": [
    "Define targets and predictors, then split them into train and test data:\n"
   ]
  },
  {
   "cell_type": "code",
   "execution_count": 3,
   "metadata": {},
   "outputs": [],
   "source": [
    "\n",
    "target_labels = [\n",
    "    'acc_tb_meas3[0]',\n",
    "    'acc_tb_meas3[1]',\n",
    "    'acc_tb_meas3[2]',\n",
    "    'acc_tt_meas3[0]',\n",
    "    'acc_tt_meas3[1]',\n",
    "    'acc_tt_meas3[2]',\n",
    "    'force_aero_est6[0]',\n",
    "    'force_aero_est6[1]',\n",
    "    'force_aero_est6[2]',\n",
    "    'force_aero_est6[3]',\n",
    "    'force_aero_est6[4]',\n",
    "    'force_aero_est6[5]',\n",
    "    'force_tt_meas6[0]',\n",
    "    'force_tt_meas6[1]',\n",
    "    'force_tt_meas6[2]',\n",
    "    'force_tt_meas6[3]',\n",
    "    'force_tt_meas6[4]',\n",
    "    'force_tt_meas6[5]',\n",
    "]\n",
    "predictor_labels = [\n",
    "    'pos_act6[0]',\n",
    "    'pos_act6[1]',\n",
    "    'pos_act6[2]',\n",
    "    'pos_act6[3]',\n",
    "    'pos_act6[4]',\n",
    "    'pos_act6[5]',\n",
    "    'spd_rot_act',\n",
    "    'wind_speed',\n",
    "]\n",
    "\n",
    "X = data[predictor_labels]\n",
    "Y = data[target_labels]\n",
    "\n",
    "# should we shuffle data here?\n",
    "X_train, X_test, Y_train, Y_test = train_test_split(X, Y, test_size=0.25, random_state=123)  # shuffle = True)"
   ]
  },
  {
   "cell_type": "markdown",
   "metadata": {},
   "source": [
    "Let's instantiate a model by defining a few parameters: "
   ]
  },
  {
   "cell_type": "code",
   "execution_count": 4,
   "metadata": {},
   "outputs": [],
   "source": [
    "model = EnsembleModel(\n",
    "    estimator=\"RandomForest\", max_depth=9, bootstrap=True, max_samples=10_000, n_estimators=50\n",
    ")"
   ]
  },
  {
   "cell_type": "markdown",
   "metadata": {},
   "source": [
    "We get an estimate of the model performance by running cross validation (CV) - the default is to run k-fold CV, with `k=5`: "
   ]
  },
  {
   "cell_type": "code",
   "execution_count": 5,
   "metadata": {},
   "outputs": [
    {
     "name": "stdout",
     "output_type": "stream",
     "text": [
      "CPU times: user 22.2 s, sys: 529 ms, total: 22.7 s\n",
      "Wall time: 23.5 s\n"
     ]
    },
    {
     "data": {
      "text/plain": [
       "(5, -3.4828061390322005, 0.005965294435464364)"
      ]
     },
     "execution_count": 5,
     "metadata": {},
     "output_type": "execute_result"
    }
   ],
   "source": [
    "%%time\n",
    "scores = cross_val_score(model.estimator, X_train, Y_train, scoring=\"neg_root_mean_squared_error\")\n",
    "len(scores), scores.mean(), scores.std()"
   ]
  },
  {
   "cell_type": "markdown",
   "metadata": {},
   "source": [
    "We do the same but using out-of-bag samples to estimate the generalization score (which should be cheaper):"
   ]
  },
  {
   "cell_type": "code",
   "execution_count": 6,
   "metadata": {},
   "outputs": [
    {
     "name": "stderr",
     "output_type": "stream",
     "text": [
      "/Users/fnattino/Projects/HybridLabs/FOWT-ML/src/fowt_ml/ensemble.py:49: UserWarning: Setting `bootstrap=True` and `oob_score=<function EnsembleModel.oob_score.<locals>.score_func at 0x16b8fae80>`\n",
      "  warnings.warn(f\"Setting `bootstrap=True` and `oob_score={oob_score}`\")\n"
     ]
    },
    {
     "name": "stdout",
     "output_type": "stream",
     "text": [
      "CPU times: user 7.63 s, sys: 646 ms, total: 8.28 s\n",
      "Wall time: 8.6 s\n"
     ]
    },
    {
     "data": {
      "text/plain": [
       "-3.480819620430942"
      ]
     },
     "execution_count": 6,
     "metadata": {},
     "output_type": "execute_result"
    }
   ],
   "source": [
    "%%time\n",
    "score = model.oob_score(X_train, Y_train, scoring=\"neg_root_mean_squared_error\")\n",
    "score"
   ]
  },
  {
   "cell_type": "markdown",
   "metadata": {},
   "source": [
    "Finally we train the model on the full training dataset, and get one or more scores on the test set: "
   ]
  },
  {
   "cell_type": "code",
   "execution_count": 7,
   "metadata": {},
   "outputs": [
    {
     "data": {
      "text/plain": [
       "{'neg_root_mean_squared_error': -3.48854898913557, 'r2': 0.12065774081363125}"
      ]
     },
     "execution_count": 7,
     "metadata": {},
     "output_type": "execute_result"
    }
   ],
   "source": [
    "model.calculate_score(X_train, Y_train, X_test, Y_test, scoring=[\"neg_root_mean_squared_error\", \"r2\"])"
   ]
  },
  {
   "cell_type": "markdown",
   "metadata": {},
   "source": [
    "Include everything in a function to test both random forest and extremely randomized trees:"
   ]
  },
  {
   "cell_type": "code",
   "execution_count": 8,
   "metadata": {},
   "outputs": [],
   "source": [
    "def run_cross_val_score(estimator, X, y, scoring, **kwargs):\n",
    "    model = EnsembleModel(estimator, **kwargs)\n",
    "    cv_score = cross_val_score(model.estimator, X, y, scoring=scoring)\n",
    "    oob_score = model.oob_score(X, y, scoring=scoring)\n",
    "    print(f\"CV score: {cv_score.mean()} ; OOB score: {oob_score}\")"
   ]
  },
  {
   "cell_type": "code",
   "execution_count": 10,
   "metadata": {},
   "outputs": [
    {
     "name": "stderr",
     "output_type": "stream",
     "text": [
      "/Users/fnattino/Projects/HybridLabs/FOWT-ML/src/fowt_ml/ensemble.py:49: UserWarning: Setting `bootstrap=True` and `oob_score=<function EnsembleModel.oob_score.<locals>.score_func at 0x16b8fb060>`\n",
      "  warnings.warn(f\"Setting `bootstrap=True` and `oob_score={oob_score}`\")\n"
     ]
    },
    {
     "name": "stdout",
     "output_type": "stream",
     "text": [
      "CV score: -3.481252853449478 ; OOB score: -3.48101482544245\n"
     ]
    },
    {
     "name": "stderr",
     "output_type": "stream",
     "text": [
      "/Users/fnattino/Projects/HybridLabs/FOWT-ML/src/fowt_ml/ensemble.py:49: UserWarning: Setting `bootstrap=True` and `oob_score=<function EnsembleModel.oob_score.<locals>.score_func at 0x16b8fade0>`\n",
      "  warnings.warn(f\"Setting `bootstrap=True` and `oob_score={oob_score}`\")\n"
     ]
    },
    {
     "name": "stdout",
     "output_type": "stream",
     "text": [
      "CV score: -3.5334720930453885 ; OOB score: -3.5350612318601287\n"
     ]
    }
   ],
   "source": [
    "params = {\"max_depth\": 9, \"max_samples\": 10_000, \"bootstrap\": True, \"n_estimators\": 50}\n",
    "run_cross_val_score(\"RandomForest\", X_train, Y_train, \"neg_root_mean_squared_error\", **params)\n",
    "run_cross_val_score(\"ExtraTrees\", X_train, Y_train, \"neg_root_mean_squared_error\", **params)"
   ]
  }
 ],
 "metadata": {
  "kernelspec": {
   "display_name": "hybridlabs",
   "language": "python",
   "name": "python3"
  },
  "language_info": {
   "codemirror_mode": {
    "name": "ipython",
    "version": 3
   },
   "file_extension": ".py",
   "mimetype": "text/x-python",
   "name": "python",
   "nbconvert_exporter": "python",
   "pygments_lexer": "ipython3",
   "version": "3.11.11"
  }
 },
 "nbformat": 4,
 "nbformat_minor": 2
}
