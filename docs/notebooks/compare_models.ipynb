{
 "cells": [
  {
   "cell_type": "markdown",
   "id": "c1457d8a-e876-4631-8fd2-e6588dd52066",
   "metadata": {},
   "source": [
    "# Compare models in a hybrid setup: Motion feedback- Force actuation\n",
    "\n",
    "- numerical system: rotor aerodynamic simulator; calculate rotor loads\n",
    "- physical turbine: measure motions and accelerations\n",
    "- Ml model: multi-output regressor"
   ]
  },
  {
   "cell_type": "code",
   "execution_count": 1,
   "id": "3e60eb8d-0b72-47ba-9ebf-bc7ff7b28b39",
   "metadata": {},
   "outputs": [],
   "source": [
    "from fowt_ml.pipeline import Pipeline"
   ]
  },
  {
   "cell_type": "code",
   "execution_count": 2,
   "id": "9668aa7e-d4b0-4029-8f51-2600484cbe99",
   "metadata": {},
   "outputs": [],
   "source": [
    "example_config_file = \"../../src/example_config.yml\""
   ]
  },
  {
   "cell_type": "code",
   "execution_count": 3,
   "id": "336fe93e-1c1d-4139-8bba-d9bf40ff85bf",
   "metadata": {},
   "outputs": [],
   "source": [
    "my_pipeline = Pipeline(example_config_file)"
   ]
  },
  {
   "cell_type": "code",
   "execution_count": 4,
   "id": "a8df6149-85c7-4a0b-9a85-360e18f7e248",
   "metadata": {},
   "outputs": [],
   "source": [
    "# set correct path for mat file: add the correct path\n",
    "my_pipeline.data_config[\"exp699\"][\"mat_file\"] = \"/home/sarah/temp/hybridlabs/data_example/exp699.mat\""
   ]
  },
  {
   "cell_type": "code",
   "execution_count": 5,
   "id": "3b92e801-f862-43eb-b3e1-3923c09df014",
   "metadata": {},
   "outputs": [
    {
     "name": "stdout",
     "output_type": "stream",
     "text": [
      "targets are: ['force_aero_est6[0]', 'force_aero_est6[1]', 'force_aero_est6[2]', 'force_aero_est6[3]', 'force_aero_est6[4]', 'force_aero_est6[5]', 'force_tt_meas6[0]', 'force_tt_meas6[1]', 'force_tt_meas6[2]', 'force_tt_meas6[3]', 'force_tt_meas6[4]', 'force_tt_meas6[5]']\n",
      "features are: ['acc_tb_meas3[0]', 'acc_tb_meas3[1]', 'acc_tb_meas3[2]', 'acc_tt_meas3[0]', 'acc_tt_meas3[1]', 'acc_tt_meas3[2]', 'pos_act6[0]', 'pos_act6[1]', 'pos_act6[2]', 'pos_act6[3]', 'pos_act6[4]', 'pos_act6[5]', 'spd_rot_act', 'wind_speed']\n"
     ]
    }
   ],
   "source": [
    "# check the targets and predictors that are provided in the comfig\n",
    "print(\"targets are:\", my_pipeline.target_labels)\n",
    "print(\"features are:\", my_pipeline.predictors_labels)"
   ]
  },
  {
   "cell_type": "code",
   "execution_count": 6,
   "id": "1006424e-d70c-4494-8911-8854d1c4c210",
   "metadata": {},
   "outputs": [
    {
     "name": "stdout",
     "output_type": "stream",
     "text": [
      "{'ElasticNetRegression': {}, 'LeastAngleRegression': {}, 'LassoRegression': {}, 'LinearRegression': {}, 'SklearnGPRegressor': {'num_inducing': 100, 'num_latents': 3, 'num_epochs': 1}, 'RandomForest': {'n_estimators': 50, 'max_depth': 9, 'bootstrap': True, 'max_samples': 10000}, 'MultilayerPerceptron': {'hidden_layer_sizes': 10, 'max_iter': 10}, 'XGBoostRegression': {'n_estimators': 100, 'max_depth': 4, 'tree_method': 'hist'}}\n",
      "['neg_mean_squared_error', 'neg_root_mean_squared_error', 'r2', 'model_fit_time']\n"
     ]
    }
   ],
   "source": [
    "# check the models and metrics that are provided by the config\n",
    "print(my_pipeline.model_names)\n",
    "print(my_pipeline.metric_names)"
   ]
  },
  {
   "cell_type": "code",
   "execution_count": 7,
   "id": "1f4c2759-8012-416b-bf08-5d7408c4dd04",
   "metadata": {},
   "outputs": [],
   "source": [
    "# setup the pipeline\n",
    "my_pipeline.setup(data=\"exp699\")"
   ]
  },
  {
   "cell_type": "code",
   "execution_count": 8,
   "id": "41b261c1-34ac-4fb0-b8c3-5836a2f840d5",
   "metadata": {},
   "outputs": [
    {
     "name": "stderr",
     "output_type": "stream",
     "text": [
      "/home/sarah/miniconda3/envs/fowt_ml/lib/python3.11/site-packages/sklearn/neural_network/_multilayer_perceptron.py:691: ConvergenceWarning: Stochastic Optimizer: Maximum iterations (10) reached and the optimization hasn't converged yet.\n",
      "  warnings.warn(\n",
      "2025/09/12 16:19:44 WARNING mlflow.utils.requirements_utils: The following packages were not found in the public PyPI package index as of 2025-04-15; if these packages are not present in the public PyPI index, you must install them manually before loading your model: {'fowt-ml'}\n",
      "INFO:fowt_ml.pipeline:Saving grid scores to grid_scores.csv\n",
      "INFO:fowt_ml.pipeline:Saving best model to ONNX format in {file_name}\n"
     ]
    }
   ],
   "source": [
    "# compare models on test data\n",
    "models, scores = my_pipeline.compare_models(sort=\"model_fit_time\")"
   ]
  },
  {
   "cell_type": "code",
   "execution_count": 9,
   "id": "3b344f46-aa7a-473a-b805-7110d312df2f",
   "metadata": {},
   "outputs": [
    {
     "data": {
      "text/html": [
       "<div>\n",
       "<style scoped>\n",
       "    .dataframe tbody tr th:only-of-type {\n",
       "        vertical-align: middle;\n",
       "    }\n",
       "\n",
       "    .dataframe tbody tr th {\n",
       "        vertical-align: top;\n",
       "    }\n",
       "\n",
       "    .dataframe thead th {\n",
       "        text-align: right;\n",
       "    }\n",
       "</style>\n",
       "<table border=\"1\" class=\"dataframe\">\n",
       "  <thead>\n",
       "    <tr style=\"text-align: right;\">\n",
       "      <th></th>\n",
       "      <th>neg_mean_squared_error</th>\n",
       "      <th>neg_root_mean_squared_error</th>\n",
       "      <th>r2</th>\n",
       "      <th>model_fit_time</th>\n",
       "    </tr>\n",
       "  </thead>\n",
       "  <tbody>\n",
       "    <tr>\n",
       "      <th>LeastAngleRegression</th>\n",
       "      <td>-7.127108</td>\n",
       "      <td>-2.259902</td>\n",
       "      <td>0.402951</td>\n",
       "      <td>0.10</td>\n",
       "    </tr>\n",
       "    <tr>\n",
       "      <th>LinearRegression</th>\n",
       "      <td>-7.122590</td>\n",
       "      <td>-2.259118</td>\n",
       "      <td>0.403461</td>\n",
       "      <td>0.20</td>\n",
       "    </tr>\n",
       "    <tr>\n",
       "      <th>LassoRegression</th>\n",
       "      <td>-7.762648</td>\n",
       "      <td>-2.360468</td>\n",
       "      <td>0.344400</td>\n",
       "      <td>0.33</td>\n",
       "    </tr>\n",
       "    <tr>\n",
       "      <th>ElasticNetRegression</th>\n",
       "      <td>-7.546190</td>\n",
       "      <td>-2.326244</td>\n",
       "      <td>0.361426</td>\n",
       "      <td>0.54</td>\n",
       "    </tr>\n",
       "    <tr>\n",
       "      <th>MultilayerPerceptron</th>\n",
       "      <td>-7.842866</td>\n",
       "      <td>-2.436900</td>\n",
       "      <td>0.035844</td>\n",
       "      <td>3.34</td>\n",
       "    </tr>\n",
       "    <tr>\n",
       "      <th>RandomForest</th>\n",
       "      <td>-7.014612</td>\n",
       "      <td>-2.228866</td>\n",
       "      <td>0.428877</td>\n",
       "      <td>5.75</td>\n",
       "    </tr>\n",
       "    <tr>\n",
       "      <th>XGBoostRegression</th>\n",
       "      <td>-5.965616</td>\n",
       "      <td>-2.049794</td>\n",
       "      <td>0.509560</td>\n",
       "      <td>9.79</td>\n",
       "    </tr>\n",
       "    <tr>\n",
       "      <th>SklearnGPRegressor</th>\n",
       "      <td>-26.811133</td>\n",
       "      <td>-3.971338</td>\n",
       "      <td>-0.411956</td>\n",
       "      <td>12.33</td>\n",
       "    </tr>\n",
       "  </tbody>\n",
       "</table>\n",
       "</div>"
      ],
      "text/plain": [
       "                      neg_mean_squared_error  neg_root_mean_squared_error  \\\n",
       "LeastAngleRegression               -7.127108                    -2.259902   \n",
       "LinearRegression                   -7.122590                    -2.259118   \n",
       "LassoRegression                    -7.762648                    -2.360468   \n",
       "ElasticNetRegression               -7.546190                    -2.326244   \n",
       "MultilayerPerceptron               -7.842866                    -2.436900   \n",
       "RandomForest                       -7.014612                    -2.228866   \n",
       "XGBoostRegression                  -5.965616                    -2.049794   \n",
       "SklearnGPRegressor                -26.811133                    -3.971338   \n",
       "\n",
       "                            r2  model_fit_time  \n",
       "LeastAngleRegression  0.402951            0.10  \n",
       "LinearRegression      0.403461            0.20  \n",
       "LassoRegression       0.344400            0.33  \n",
       "ElasticNetRegression  0.361426            0.54  \n",
       "MultilayerPerceptron  0.035844            3.34  \n",
       "RandomForest          0.428877            5.75  \n",
       "XGBoostRegression     0.509560            9.79  \n",
       "SklearnGPRegressor   -0.411956           12.33  "
      ]
     },
     "execution_count": 9,
     "metadata": {},
     "output_type": "execute_result"
    }
   ],
   "source": [
    "scores"
   ]
  },
  {
   "cell_type": "code",
   "execution_count": 10,
   "id": "229126e9-3826-4e02-8df5-a3e0abb25b17",
   "metadata": {},
   "outputs": [
    {
     "data": {
      "text/plain": [
       "{'ElasticNetRegression': ElasticNet(),\n",
       " 'LeastAngleRegression': Lars(),\n",
       " 'LassoRegression': Lasso(),\n",
       " 'LinearRegression': LinearRegression(),\n",
       " 'SklearnGPRegressor': SklearnGPRegressor(num_epochs=1, num_inducing=100, num_latents=3),\n",
       " 'RandomForest': RandomForestRegressor(max_depth=9, max_samples=10000, n_estimators=50),\n",
       " 'MultilayerPerceptron': MLPRegressor(hidden_layer_sizes=10, max_iter=10),\n",
       " 'XGBoostRegression': XGBRegressor(base_score=None, booster=None, callbacks=None,\n",
       "              colsample_bylevel=None, colsample_bynode=None,\n",
       "              colsample_bytree=None, device=None, early_stopping_rounds=None,\n",
       "              enable_categorical=False, eval_metric=None, feature_types=None,\n",
       "              feature_weights=None, gamma=None, grow_policy=None,\n",
       "              importance_type=None, interaction_constraints=None,\n",
       "              learning_rate=None, max_bin=None, max_cat_threshold=None,\n",
       "              max_cat_to_onehot=None, max_delta_step=None, max_depth=4,\n",
       "              max_leaves=None, min_child_weight=None, missing=nan,\n",
       "              monotone_constraints=None, multi_strategy=None, n_estimators=100,\n",
       "              n_jobs=None, num_parallel_tree=None, ...)}"
      ]
     },
     "execution_count": 10,
     "metadata": {},
     "output_type": "execute_result"
    }
   ],
   "source": [
    "models"
   ]
  },
  {
   "cell_type": "code",
   "execution_count": 8,
   "id": "5219d08b-63be-43b5-a863-f8f25f2ff92c",
   "metadata": {},
   "outputs": [
    {
     "name": "stderr",
     "output_type": "stream",
     "text": [
      "/home/sarah/miniconda3/envs/fowt_ml/lib/python3.11/site-packages/sklearn/neural_network/_multilayer_perceptron.py:691: ConvergenceWarning: Stochastic Optimizer: Maximum iterations (10) reached and the optimization hasn't converged yet.\n",
      "  warnings.warn(\n",
      "/home/sarah/miniconda3/envs/fowt_ml/lib/python3.11/site-packages/sklearn/neural_network/_multilayer_perceptron.py:691: ConvergenceWarning: Stochastic Optimizer: Maximum iterations (10) reached and the optimization hasn't converged yet.\n",
      "  warnings.warn(\n",
      "/home/sarah/miniconda3/envs/fowt_ml/lib/python3.11/site-packages/sklearn/neural_network/_multilayer_perceptron.py:691: ConvergenceWarning: Stochastic Optimizer: Maximum iterations (10) reached and the optimization hasn't converged yet.\n",
      "  warnings.warn(\n",
      "/home/sarah/miniconda3/envs/fowt_ml/lib/python3.11/site-packages/sklearn/neural_network/_multilayer_perceptron.py:691: ConvergenceWarning: Stochastic Optimizer: Maximum iterations (10) reached and the optimization hasn't converged yet.\n",
      "  warnings.warn(\n",
      "2025/09/12 16:22:46 WARNING mlflow.utils.requirements_utils: The following packages were not found in the public PyPI package index as of 2025-04-15; if these packages are not present in the public PyPI index, you must install them manually before loading your model: {'fowt-ml'}\n",
      "INFO:fowt_ml.pipeline:Saving grid scores to grid_scores.csv\n",
      "INFO:fowt_ml.pipeline:Saving best model to ONNX format in {file_name}\n"
     ]
    }
   ],
   "source": [
    "# compare models using cross_validation\n",
    "models, scores = my_pipeline.compare_models(sort=\"model_fit_time\", cross_validation=True)"
   ]
  },
  {
   "cell_type": "code",
   "execution_count": 9,
   "id": "1b865d43-c728-46e8-aa0d-f6811b12155c",
   "metadata": {},
   "outputs": [
    {
     "data": {
      "text/html": [
       "<div>\n",
       "<style scoped>\n",
       "    .dataframe tbody tr th:only-of-type {\n",
       "        vertical-align: middle;\n",
       "    }\n",
       "\n",
       "    .dataframe tbody tr th {\n",
       "        vertical-align: top;\n",
       "    }\n",
       "\n",
       "    .dataframe thead th {\n",
       "        text-align: right;\n",
       "    }\n",
       "</style>\n",
       "<table border=\"1\" class=\"dataframe\">\n",
       "  <thead>\n",
       "    <tr style=\"text-align: right;\">\n",
       "      <th></th>\n",
       "      <th>neg_mean_squared_error</th>\n",
       "      <th>neg_root_mean_squared_error</th>\n",
       "      <th>r2</th>\n",
       "      <th>model_fit_time</th>\n",
       "    </tr>\n",
       "  </thead>\n",
       "  <tbody>\n",
       "    <tr>\n",
       "      <th>LeastAngleRegression</th>\n",
       "      <td>-7.196305</td>\n",
       "      <td>-2.271585</td>\n",
       "      <td>0.402931</td>\n",
       "      <td>0.073133</td>\n",
       "    </tr>\n",
       "    <tr>\n",
       "      <th>LinearRegression</th>\n",
       "      <td>-7.190567</td>\n",
       "      <td>-2.270583</td>\n",
       "      <td>0.403588</td>\n",
       "      <td>0.114592</td>\n",
       "    </tr>\n",
       "    <tr>\n",
       "      <th>ElasticNetRegression</th>\n",
       "      <td>-7.609064</td>\n",
       "      <td>-2.336870</td>\n",
       "      <td>0.362144</td>\n",
       "      <td>0.212254</td>\n",
       "    </tr>\n",
       "    <tr>\n",
       "      <th>LassoRegression</th>\n",
       "      <td>-7.824502</td>\n",
       "      <td>-2.371108</td>\n",
       "      <td>0.345111</td>\n",
       "      <td>0.222846</td>\n",
       "    </tr>\n",
       "    <tr>\n",
       "      <th>MultilayerPerceptron</th>\n",
       "      <td>-8.107076</td>\n",
       "      <td>-2.506444</td>\n",
       "      <td>-0.864567</td>\n",
       "      <td>2.193725</td>\n",
       "    </tr>\n",
       "    <tr>\n",
       "      <th>XGBoostRegression</th>\n",
       "      <td>-6.009705</td>\n",
       "      <td>-2.057880</td>\n",
       "      <td>0.510675</td>\n",
       "      <td>5.896067</td>\n",
       "    </tr>\n",
       "    <tr>\n",
       "      <th>RandomForest</th>\n",
       "      <td>-7.059476</td>\n",
       "      <td>-2.235744</td>\n",
       "      <td>0.430686</td>\n",
       "      <td>6.380749</td>\n",
       "    </tr>\n",
       "    <tr>\n",
       "      <th>SklearnGPRegressor</th>\n",
       "      <td>-31.224002</td>\n",
       "      <td>-4.094706</td>\n",
       "      <td>-0.120360</td>\n",
       "      <td>8.114295</td>\n",
       "    </tr>\n",
       "  </tbody>\n",
       "</table>\n",
       "</div>"
      ],
      "text/plain": [
       "                      neg_mean_squared_error  neg_root_mean_squared_error  \\\n",
       "LeastAngleRegression               -7.196305                    -2.271585   \n",
       "LinearRegression                   -7.190567                    -2.270583   \n",
       "ElasticNetRegression               -7.609064                    -2.336870   \n",
       "LassoRegression                    -7.824502                    -2.371108   \n",
       "MultilayerPerceptron               -8.107076                    -2.506444   \n",
       "XGBoostRegression                  -6.009705                    -2.057880   \n",
       "RandomForest                       -7.059476                    -2.235744   \n",
       "SklearnGPRegressor                -31.224002                    -4.094706   \n",
       "\n",
       "                            r2  model_fit_time  \n",
       "LeastAngleRegression  0.402931        0.073133  \n",
       "LinearRegression      0.403588        0.114592  \n",
       "ElasticNetRegression  0.362144        0.212254  \n",
       "LassoRegression       0.345111        0.222846  \n",
       "MultilayerPerceptron -0.864567        2.193725  \n",
       "XGBoostRegression     0.510675        5.896067  \n",
       "RandomForest          0.430686        6.380749  \n",
       "SklearnGPRegressor   -0.120360        8.114295  "
      ]
     },
     "execution_count": 9,
     "metadata": {},
     "output_type": "execute_result"
    }
   ],
   "source": [
    "scores"
   ]
  },
  {
   "cell_type": "code",
   "execution_count": null,
   "id": "4034e7b0-f050-4c6b-84f7-806c4388bee3",
   "metadata": {},
   "outputs": [],
   "source": []
  }
 ],
 "metadata": {
  "kernelspec": {
   "display_name": "Python 3 (ipykernel)",
   "language": "python",
   "name": "python3"
  },
  "language_info": {
   "codemirror_mode": {
    "name": "ipython",
    "version": 3
   },
   "file_extension": ".py",
   "mimetype": "text/x-python",
   "name": "python",
   "nbconvert_exporter": "python",
   "pygments_lexer": "ipython3",
   "version": "3.11.11"
  }
 },
 "nbformat": 4,
 "nbformat_minor": 5
}
