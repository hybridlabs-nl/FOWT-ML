{
 "cells": [
  {
   "cell_type": "markdown",
   "id": "c1457d8a-e876-4631-8fd2-e6588dd52066",
   "metadata": {},
   "source": [
    "# Compare models in a hybrid setup: Motion feedback- Force actuation\n",
    "\n",
    "- numerical system: rotor aerodynamic simulator; calculate rotor loads\n",
    "- physical turbine: measure motions and accelerations\n",
    "- Ml model: multi-output regressor"
   ]
  },
  {
   "cell_type": "code",
   "execution_count": 1,
   "id": "3e60eb8d-0b72-47ba-9ebf-bc7ff7b28b39",
   "metadata": {},
   "outputs": [],
   "source": [
    "from fowt_ml.pipeline import Pipeline"
   ]
  },
  {
   "cell_type": "code",
   "execution_count": 2,
   "id": "9668aa7e-d4b0-4029-8f51-2600484cbe99",
   "metadata": {},
   "outputs": [],
   "source": [
    "example_config_file = \"../../src/example_config.yml\""
   ]
  },
  {
   "cell_type": "code",
   "execution_count": 3,
   "id": "336fe93e-1c1d-4139-8bba-d9bf40ff85bf",
   "metadata": {},
   "outputs": [],
   "source": [
    "my_pipeline = Pipeline(example_config_file)"
   ]
  },
  {
   "cell_type": "code",
   "execution_count": 4,
   "id": "a8df6149-85c7-4a0b-9a85-360e18f7e248",
   "metadata": {},
   "outputs": [],
   "source": [
    "# set correct path for mat file: add the correct path\n",
    "my_pipeline.data_config[\"exp699\"][\"path_file\"] = \"/home/sarah/temp/hybridlabs/data_example/exp699.mat\""
   ]
  },
  {
   "cell_type": "code",
   "execution_count": 5,
   "id": "a9c14364-41d6-42ca-b6a9-dcd36afb5010",
   "metadata": {},
   "outputs": [
    {
     "name": "stdout",
     "output_type": "stream",
     "text": [
      "targets are: ['force_aero_est6[0]', 'force_aero_est6[1]', 'force_aero_est6[2]', 'force_aero_est6[3]', 'force_aero_est6[4]', 'force_aero_est6[5]', 'force_tt_meas6[0]', 'force_tt_meas6[1]', 'force_tt_meas6[2]', 'force_tt_meas6[3]', 'force_tt_meas6[4]', 'force_tt_meas6[5]']\n",
      "features are: ['acc_tb_meas3[0]', 'acc_tb_meas3[1]', 'acc_tb_meas3[2]', 'acc_tt_meas3[0]', 'acc_tt_meas3[1]', 'acc_tt_meas3[2]', 'pos_act6[0]', 'pos_act6[1]', 'pos_act6[2]', 'pos_act6[3]', 'pos_act6[4]', 'pos_act6[5]', 'spd_rot_act', 'wind_speed']\n"
     ]
    }
   ],
   "source": [
    "# check the targets and predictors that are provided in the comfig\n",
    "print(\"targets are:\", my_pipeline.target_labels)\n",
    "print(\"features are:\", my_pipeline.predictors_labels)"
   ]
  },
  {
   "cell_type": "code",
   "execution_count": 6,
   "id": "1006424e-d70c-4494-8911-8854d1c4c210",
   "metadata": {},
   "outputs": [
    {
     "name": "stdout",
     "output_type": "stream",
     "text": [
      "{'ElasticNetRegression': {}, 'LeastAngleRegression': {}, 'LassoRegression': {}, 'LinearRegression': {}, 'SklearnGPRegressor': {'num_inducing': 100, 'num_latents': 3, 'num_epochs': 1}, 'RandomForest': {'n_estimators': 50, 'max_depth': 9, 'bootstrap': True, 'max_samples': 10000}, 'MultilayerPerceptron': {'hidden_layer_sizes': 10, 'max_iter': 10}, 'XGBoostRegression': {'n_estimators': 100, 'max_depth': 4, 'tree_method': 'hist'}}\n",
      "['neg_mean_squared_error', 'neg_root_mean_squared_error', 'r2', 'model_fit_time', 'model_predict_time']\n"
     ]
    }
   ],
   "source": [
    "# check the models and metrics that are provided by the config\n",
    "print(my_pipeline.model_names)\n",
    "print(my_pipeline.metric_names)"
   ]
  },
  {
   "cell_type": "code",
   "execution_count": 7,
   "id": "1f4c2759-8012-416b-bf08-5d7408c4dd04",
   "metadata": {},
   "outputs": [],
   "source": [
    "# setup the pipeline\n",
    "my_pipeline.setup(data=\"exp699\")"
   ]
  },
  {
   "cell_type": "code",
   "execution_count": 8,
   "id": "41b261c1-34ac-4fb0-b8c3-5836a2f840d5",
   "metadata": {},
   "outputs": [
    {
     "name": "stderr",
     "output_type": "stream",
     "text": [
      "/home/sarah/miniconda3/envs/fowt_ml/lib/python3.11/site-packages/sklearn/neural_network/_multilayer_perceptron.py:691: ConvergenceWarning: Stochastic Optimizer: Maximum iterations (10) reached and the optimization hasn't converged yet.\n",
      "  warnings.warn(\n"
     ]
    }
   ],
   "source": [
    "# compare models on test data\n",
    "models, scores = my_pipeline.compare_models(sort=\"model_fit_time\")"
   ]
  },
  {
   "cell_type": "code",
   "execution_count": 9,
   "id": "3b344f46-aa7a-473a-b805-7110d312df2f",
   "metadata": {},
   "outputs": [
    {
     "data": {
      "text/html": [
       "<div>\n",
       "<style scoped>\n",
       "    .dataframe tbody tr th:only-of-type {\n",
       "        vertical-align: middle;\n",
       "    }\n",
       "\n",
       "    .dataframe tbody tr th {\n",
       "        vertical-align: top;\n",
       "    }\n",
       "\n",
       "    .dataframe thead th {\n",
       "        text-align: right;\n",
       "    }\n",
       "</style>\n",
       "<table border=\"1\" class=\"dataframe\">\n",
       "  <thead>\n",
       "    <tr style=\"text-align: right;\">\n",
       "      <th></th>\n",
       "      <th>neg_mean_squared_error</th>\n",
       "      <th>neg_root_mean_squared_error</th>\n",
       "      <th>r2</th>\n",
       "      <th>model_fit_time</th>\n",
       "      <th>model_predict_time</th>\n",
       "    </tr>\n",
       "  </thead>\n",
       "  <tbody>\n",
       "    <tr>\n",
       "      <th>LeastAngleRegression</th>\n",
       "      <td>-7.127108</td>\n",
       "      <td>-2.259902</td>\n",
       "      <td>0.402951</td>\n",
       "      <td>0.145</td>\n",
       "      <td>0.001</td>\n",
       "    </tr>\n",
       "    <tr>\n",
       "      <th>LinearRegression</th>\n",
       "      <td>-7.122590</td>\n",
       "      <td>-2.259118</td>\n",
       "      <td>0.403461</td>\n",
       "      <td>0.277</td>\n",
       "      <td>0.001</td>\n",
       "    </tr>\n",
       "    <tr>\n",
       "      <th>ElasticNetRegression</th>\n",
       "      <td>-7.546190</td>\n",
       "      <td>-2.326244</td>\n",
       "      <td>0.361426</td>\n",
       "      <td>6.665</td>\n",
       "      <td>0.001</td>\n",
       "    </tr>\n",
       "    <tr>\n",
       "      <th>MultilayerPerceptron</th>\n",
       "      <td>-7.390511</td>\n",
       "      <td>-2.324204</td>\n",
       "      <td>0.274377</td>\n",
       "      <td>6.673</td>\n",
       "      <td>0.001</td>\n",
       "    </tr>\n",
       "    <tr>\n",
       "      <th>LassoRegression</th>\n",
       "      <td>-7.762648</td>\n",
       "      <td>-2.360468</td>\n",
       "      <td>0.344400</td>\n",
       "      <td>7.874</td>\n",
       "      <td>0.001</td>\n",
       "    </tr>\n",
       "    <tr>\n",
       "      <th>RandomForest</th>\n",
       "      <td>-7.016881</td>\n",
       "      <td>-2.228596</td>\n",
       "      <td>0.428391</td>\n",
       "      <td>14.582</td>\n",
       "      <td>0.007</td>\n",
       "    </tr>\n",
       "    <tr>\n",
       "      <th>XGBoostRegression</th>\n",
       "      <td>-5.965616</td>\n",
       "      <td>-2.049794</td>\n",
       "      <td>0.509560</td>\n",
       "      <td>15.832</td>\n",
       "      <td>0.002</td>\n",
       "    </tr>\n",
       "    <tr>\n",
       "      <th>SklearnGPRegressor</th>\n",
       "      <td>-26.811133</td>\n",
       "      <td>-3.971338</td>\n",
       "      <td>-0.411956</td>\n",
       "      <td>27.892</td>\n",
       "      <td>0.006</td>\n",
       "    </tr>\n",
       "  </tbody>\n",
       "</table>\n",
       "</div>"
      ],
      "text/plain": [
       "                      neg_mean_squared_error  neg_root_mean_squared_error  \\\n",
       "LeastAngleRegression               -7.127108                    -2.259902   \n",
       "LinearRegression                   -7.122590                    -2.259118   \n",
       "ElasticNetRegression               -7.546190                    -2.326244   \n",
       "MultilayerPerceptron               -7.390511                    -2.324204   \n",
       "LassoRegression                    -7.762648                    -2.360468   \n",
       "RandomForest                       -7.016881                    -2.228596   \n",
       "XGBoostRegression                  -5.965616                    -2.049794   \n",
       "SklearnGPRegressor                -26.811133                    -3.971338   \n",
       "\n",
       "                            r2  model_fit_time  model_predict_time  \n",
       "LeastAngleRegression  0.402951           0.145               0.001  \n",
       "LinearRegression      0.403461           0.277               0.001  \n",
       "ElasticNetRegression  0.361426           6.665               0.001  \n",
       "MultilayerPerceptron  0.274377           6.673               0.001  \n",
       "LassoRegression       0.344400           7.874               0.001  \n",
       "RandomForest          0.428391          14.582               0.007  \n",
       "XGBoostRegression     0.509560          15.832               0.002  \n",
       "SklearnGPRegressor   -0.411956          27.892               0.006  "
      ]
     },
     "execution_count": 9,
     "metadata": {},
     "output_type": "execute_result"
    }
   ],
   "source": [
    "scores"
   ]
  },
  {
   "cell_type": "code",
   "execution_count": 10,
   "id": "229126e9-3826-4e02-8df5-a3e0abb25b17",
   "metadata": {},
   "outputs": [
    {
     "data": {
      "text/plain": [
       "{'ElasticNetRegression': ElasticNet(),\n",
       " 'LeastAngleRegression': Lars(),\n",
       " 'LassoRegression': Lasso(),\n",
       " 'LinearRegression': LinearRegression(),\n",
       " 'SklearnGPRegressor': SklearnGPRegressor(num_epochs=1, num_inducing=100, num_latents=3),\n",
       " 'RandomForest': RandomForestRegressor(max_depth=9, max_samples=10000, n_estimators=50),\n",
       " 'MultilayerPerceptron': MLPRegressor(hidden_layer_sizes=10, max_iter=10),\n",
       " 'XGBoostRegression': XGBRegressor(base_score=None, booster=None, callbacks=None,\n",
       "              colsample_bylevel=None, colsample_bynode=None,\n",
       "              colsample_bytree=None, device=None, early_stopping_rounds=None,\n",
       "              enable_categorical=False, eval_metric=None, feature_types=None,\n",
       "              feature_weights=None, gamma=None, grow_policy=None,\n",
       "              importance_type=None, interaction_constraints=None,\n",
       "              learning_rate=None, max_bin=None, max_cat_threshold=None,\n",
       "              max_cat_to_onehot=None, max_delta_step=None, max_depth=4,\n",
       "              max_leaves=None, min_child_weight=None, missing=nan,\n",
       "              monotone_constraints=None, multi_strategy=None, n_estimators=100,\n",
       "              n_jobs=None, num_parallel_tree=None, ...)}"
      ]
     },
     "execution_count": 10,
     "metadata": {},
     "output_type": "execute_result"
    }
   ],
   "source": [
    "models"
   ]
  },
  {
   "cell_type": "code",
   "execution_count": 11,
   "id": "5219d08b-63be-43b5-a863-f8f25f2ff92c",
   "metadata": {},
   "outputs": [
    {
     "name": "stderr",
     "output_type": "stream",
     "text": [
      "/home/sarah/miniconda3/envs/fowt_ml/lib/python3.11/site-packages/sklearn/neural_network/_multilayer_perceptron.py:691: ConvergenceWarning: Stochastic Optimizer: Maximum iterations (10) reached and the optimization hasn't converged yet.\n",
      "  warnings.warn(\n",
      "/home/sarah/miniconda3/envs/fowt_ml/lib/python3.11/site-packages/sklearn/neural_network/_multilayer_perceptron.py:691: ConvergenceWarning: Stochastic Optimizer: Maximum iterations (10) reached and the optimization hasn't converged yet.\n",
      "  warnings.warn(\n",
      "/home/sarah/miniconda3/envs/fowt_ml/lib/python3.11/site-packages/sklearn/neural_network/_multilayer_perceptron.py:691: ConvergenceWarning: Stochastic Optimizer: Maximum iterations (10) reached and the optimization hasn't converged yet.\n",
      "  warnings.warn(\n",
      "/home/sarah/miniconda3/envs/fowt_ml/lib/python3.11/site-packages/sklearn/neural_network/_multilayer_perceptron.py:691: ConvergenceWarning: Stochastic Optimizer: Maximum iterations (10) reached and the optimization hasn't converged yet.\n",
      "  warnings.warn(\n"
     ]
    }
   ],
   "source": [
    "# compare models using cross_validation\n",
    "models, scores = my_pipeline.compare_models(sort=\"model_predict_time\", cross_validation=True)"
   ]
  },
  {
   "cell_type": "code",
   "execution_count": 12,
   "id": "1b865d43-c728-46e8-aa0d-f6811b12155c",
   "metadata": {},
   "outputs": [
    {
     "data": {
      "text/html": [
       "<div>\n",
       "<style scoped>\n",
       "    .dataframe tbody tr th:only-of-type {\n",
       "        vertical-align: middle;\n",
       "    }\n",
       "\n",
       "    .dataframe tbody tr th {\n",
       "        vertical-align: top;\n",
       "    }\n",
       "\n",
       "    .dataframe thead th {\n",
       "        text-align: right;\n",
       "    }\n",
       "</style>\n",
       "<table border=\"1\" class=\"dataframe\">\n",
       "  <thead>\n",
       "    <tr style=\"text-align: right;\">\n",
       "      <th></th>\n",
       "      <th>model_fit_time</th>\n",
       "      <th>neg_mean_squared_error</th>\n",
       "      <th>neg_root_mean_squared_error</th>\n",
       "      <th>r2</th>\n",
       "      <th>model_predict_time</th>\n",
       "    </tr>\n",
       "  </thead>\n",
       "  <tbody>\n",
       "    <tr>\n",
       "      <th>ElasticNetRegression</th>\n",
       "      <td>3.799000</td>\n",
       "      <td>-7.609064</td>\n",
       "      <td>-2.336870</td>\n",
       "      <td>0.362144</td>\n",
       "      <td>0.001000</td>\n",
       "    </tr>\n",
       "    <tr>\n",
       "      <th>LeastAngleRegression</th>\n",
       "      <td>0.159000</td>\n",
       "      <td>-7.196305</td>\n",
       "      <td>-2.271585</td>\n",
       "      <td>0.402931</td>\n",
       "      <td>0.001000</td>\n",
       "    </tr>\n",
       "    <tr>\n",
       "      <th>LinearRegression</th>\n",
       "      <td>0.293667</td>\n",
       "      <td>-7.190567</td>\n",
       "      <td>-2.270583</td>\n",
       "      <td>0.403588</td>\n",
       "      <td>0.001000</td>\n",
       "    </tr>\n",
       "    <tr>\n",
       "      <th>MultilayerPerceptron</th>\n",
       "      <td>4.338333</td>\n",
       "      <td>-8.186005</td>\n",
       "      <td>-2.493574</td>\n",
       "      <td>-0.387894</td>\n",
       "      <td>0.001000</td>\n",
       "    </tr>\n",
       "    <tr>\n",
       "      <th>XGBoostRegression</th>\n",
       "      <td>10.858667</td>\n",
       "      <td>-6.009705</td>\n",
       "      <td>-2.057880</td>\n",
       "      <td>0.510675</td>\n",
       "      <td>0.002000</td>\n",
       "    </tr>\n",
       "    <tr>\n",
       "      <th>LassoRegression</th>\n",
       "      <td>3.871000</td>\n",
       "      <td>-7.824502</td>\n",
       "      <td>-2.371108</td>\n",
       "      <td>0.345111</td>\n",
       "      <td>0.002333</td>\n",
       "    </tr>\n",
       "    <tr>\n",
       "      <th>RandomForest</th>\n",
       "      <td>14.062667</td>\n",
       "      <td>-7.046162</td>\n",
       "      <td>-2.233325</td>\n",
       "      <td>0.431115</td>\n",
       "      <td>0.005333</td>\n",
       "    </tr>\n",
       "    <tr>\n",
       "      <th>SklearnGPRegressor</th>\n",
       "      <td>18.646333</td>\n",
       "      <td>-31.044421</td>\n",
       "      <td>-4.059340</td>\n",
       "      <td>-0.083243</td>\n",
       "      <td>0.006000</td>\n",
       "    </tr>\n",
       "  </tbody>\n",
       "</table>\n",
       "</div>"
      ],
      "text/plain": [
       "                      model_fit_time  neg_mean_squared_error  \\\n",
       "ElasticNetRegression        3.799000               -7.609064   \n",
       "LeastAngleRegression        0.159000               -7.196305   \n",
       "LinearRegression            0.293667               -7.190567   \n",
       "MultilayerPerceptron        4.338333               -8.186005   \n",
       "XGBoostRegression          10.858667               -6.009705   \n",
       "LassoRegression             3.871000               -7.824502   \n",
       "RandomForest               14.062667               -7.046162   \n",
       "SklearnGPRegressor         18.646333              -31.044421   \n",
       "\n",
       "                      neg_root_mean_squared_error        r2  \\\n",
       "ElasticNetRegression                    -2.336870  0.362144   \n",
       "LeastAngleRegression                    -2.271585  0.402931   \n",
       "LinearRegression                        -2.270583  0.403588   \n",
       "MultilayerPerceptron                    -2.493574 -0.387894   \n",
       "XGBoostRegression                       -2.057880  0.510675   \n",
       "LassoRegression                         -2.371108  0.345111   \n",
       "RandomForest                            -2.233325  0.431115   \n",
       "SklearnGPRegressor                      -4.059340 -0.083243   \n",
       "\n",
       "                      model_predict_time  \n",
       "ElasticNetRegression            0.001000  \n",
       "LeastAngleRegression            0.001000  \n",
       "LinearRegression                0.001000  \n",
       "MultilayerPerceptron            0.001000  \n",
       "XGBoostRegression               0.002000  \n",
       "LassoRegression                 0.002333  \n",
       "RandomForest                    0.005333  \n",
       "SklearnGPRegressor              0.006000  "
      ]
     },
     "execution_count": 12,
     "metadata": {},
     "output_type": "execute_result"
    }
   ],
   "source": [
    "scores"
   ]
  },
  {
   "cell_type": "code",
   "execution_count": null,
   "id": "4034e7b0-f050-4c6b-84f7-806c4388bee3",
   "metadata": {},
   "outputs": [],
   "source": []
  }
 ],
 "metadata": {
  "kernelspec": {
   "display_name": "Python 3 (ipykernel)",
   "language": "python",
   "name": "python3"
  },
  "language_info": {
   "codemirror_mode": {
    "name": "ipython",
    "version": 3
   },
   "file_extension": ".py",
   "mimetype": "text/x-python",
   "name": "python",
   "nbconvert_exporter": "python",
   "pygments_lexer": "ipython3",
   "version": "3.11.11"
  }
 },
 "nbformat": 4,
 "nbformat_minor": 5
}
