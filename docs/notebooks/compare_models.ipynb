{
 "cells": [
  {
   "cell_type": "markdown",
   "id": "c1457d8a-e876-4631-8fd2-e6588dd52066",
   "metadata": {},
   "source": [
    "# Compare models in a hybrid setup: Motion feedback- Force actuation\n",
    "\n",
    "- numerical model: simulate the floater dynamics.\n",
    "- physical turbine: measure forces and accelerations\n",
    "- Ml model: multi-output regressor"
   ]
  },
  {
   "cell_type": "code",
   "execution_count": 1,
   "id": "3e60eb8d-0b72-47ba-9ebf-bc7ff7b28b39",
   "metadata": {},
   "outputs": [],
   "source": [
    "from fowt_ml.pipeline import Pipeline"
   ]
  },
  {
   "cell_type": "code",
   "execution_count": 2,
   "id": "9668aa7e-d4b0-4029-8f51-2600484cbe99",
   "metadata": {},
   "outputs": [],
   "source": [
    "example_config_file = \"../../src/example_config.yml\""
   ]
  },
  {
   "cell_type": "code",
   "execution_count": 3,
   "id": "336fe93e-1c1d-4139-8bba-d9bf40ff85bf",
   "metadata": {},
   "outputs": [],
   "source": [
    "my_pipeline = Pipeline(example_config_file)"
   ]
  },
  {
   "cell_type": "code",
   "execution_count": 4,
   "id": "a8df6149-85c7-4a0b-9a85-360e18f7e248",
   "metadata": {},
   "outputs": [],
   "source": [
    "# set correct path for mat file: add the correct path\n",
    "my_pipeline.data_config[\"exp699\"][\"path_file\"] = \"/home/sarah/temp/hybridlabs/data_example/exp699.mat\""
   ]
  },
  {
   "cell_type": "code",
   "execution_count": 5,
   "id": "a65e0aae-cc37-4338-9281-69dc2b49d6ec",
   "metadata": {},
   "outputs": [
    {
     "name": "stdout",
     "output_type": "stream",
     "text": [
      "targets are: ['pos_act6[0]', 'pos_act6[1]', 'pos_act6[2]', 'pos_act6[3]', 'pos_act6[4]', 'pos_act6[5]']\n"
     ]
    }
   ],
   "source": [
    "# check the targets and predictors that are provided in the comfig\n",
    "print(\"targets are:\", my_pipeline.target_labels)"
   ]
  },
  {
   "cell_type": "code",
   "execution_count": 6,
   "id": "77cc9e32-3aa7-4c97-9f4c-8e22bd6b8e12",
   "metadata": {},
   "outputs": [
    {
     "name": "stdout",
     "output_type": "stream",
     "text": [
      "features are: ['force_tt_meas6[0]', 'force_tt_meas6[1]', 'force_tt_meas6[2]', 'force_tt_meas6[3]', 'force_tt_meas6[4]', 'force_tt_meas6[5]', 'acc_tb_meas3[0]', 'acc_tb_meas3[1]', 'acc_tb_meas3[2]', 'acc_tt_meas3[0]', 'acc_tt_meas3[1]', 'acc_tt_meas3[2]', 'spd_rot_act', 'wind_speed']\n"
     ]
    }
   ],
   "source": [
    "print(\"features are:\", my_pipeline.predictors_labels)"
   ]
  },
  {
   "cell_type": "code",
   "execution_count": null,
   "id": "f9be61e0-7f8e-4a32-b264-9edc57760dff",
   "metadata": {},
   "outputs": [],
   "source": [
    "# check the models and metrics that are provided by the config\n",
    "print(my_pipeline.model_names)"
   ]
  },
  {
   "cell_type": "code",
   "execution_count": null,
   "id": "c40b074f-39b2-4e08-b449-1f10fbb4ac09",
   "metadata": {},
   "outputs": [
    {
     "name": "stdout",
     "output_type": "stream",
     "text": [
      "{'ElasticNetRegression': {}, 'LeastAngleRegression': {}, 'LassoRegression': {}, 'LinearRegression': {}, 'SklearnGPRegressor': {'num_inducing': 100, 'num_latents': 3, 'num_epochs': 10}, 'RandomForest': {'n_estimators': 50, 'max_depth': 5, 'bootstrap': True, 'max_samples': 10000}, 'MultilayerPerceptron': {'hidden_layer_sizes': 10, 'max_iter': 50}, 'XGBoostRegression': {'n_estimators': 10, 'max_depth': 10, 'tree_method': 'hist'}}\n",
      "['neg_mean_absolute_error', 'neg_root_mean_squared_error', 'r2', 'model_fit_time', 'model_predict_time']\n"
     ]
    }
   ],
   "source": [
    "print(my_pipeline.metric_names)"
   ]
  },
  {
   "cell_type": "code",
   "execution_count": 8,
   "id": "1f4c2759-8012-416b-bf08-5d7408c4dd04",
   "metadata": {},
   "outputs": [],
   "source": [
    "# setup the pipeline\n",
    "my_pipeline.setup(data=\"exp699\")"
   ]
  },
  {
   "cell_type": "code",
   "execution_count": 9,
   "id": "41b261c1-34ac-4fb0-b8c3-5836a2f840d5",
   "metadata": {},
   "outputs": [
    {
     "name": "stderr",
     "output_type": "stream",
     "text": [
      "2025/10/23 11:05:03 WARNING mlflow.utils.requirements_utils: The following packages were not found in the public PyPI package index as of 2025-04-15; if these packages are not present in the public PyPI index, you must install them manually before loading your model: {'fowt-ml'}\n",
      "INFO:fowt_ml.pipeline:Saving grid scores to grid_scores.csv\n",
      "INFO:fowt_ml.pipeline:Saving best model to joblib format in best_model.joblib\n"
     ]
    }
   ],
   "source": [
    "# compare models on test data\n",
    "models, scores = my_pipeline.compare_models(sort=\"model_fit_time\")"
   ]
  },
  {
   "cell_type": "code",
   "execution_count": 10,
   "id": "3b344f46-aa7a-473a-b805-7110d312df2f",
   "metadata": {},
   "outputs": [
    {
     "data": {
      "text/html": [
       "<div>\n",
       "<style scoped>\n",
       "    .dataframe tbody tr th:only-of-type {\n",
       "        vertical-align: middle;\n",
       "    }\n",
       "\n",
       "    .dataframe tbody tr th {\n",
       "        vertical-align: top;\n",
       "    }\n",
       "\n",
       "    .dataframe thead th {\n",
       "        text-align: right;\n",
       "    }\n",
       "</style>\n",
       "<table border=\"1\" class=\"dataframe\">\n",
       "  <thead>\n",
       "    <tr style=\"text-align: right;\">\n",
       "      <th></th>\n",
       "      <th>neg_mean_absolute_error</th>\n",
       "      <th>neg_root_mean_squared_error</th>\n",
       "      <th>r2</th>\n",
       "      <th>model_fit_time</th>\n",
       "      <th>model_predict_time</th>\n",
       "    </tr>\n",
       "  </thead>\n",
       "  <tbody>\n",
       "    <tr>\n",
       "      <th>LeastAngleRegression</th>\n",
       "      <td>-1.603053</td>\n",
       "      <td>-2.130915</td>\n",
       "      <td>0.107324</td>\n",
       "      <td>0.108</td>\n",
       "      <td>0.001</td>\n",
       "    </tr>\n",
       "    <tr>\n",
       "      <th>ElasticNetRegression</th>\n",
       "      <td>-1.633376</td>\n",
       "      <td>-2.164626</td>\n",
       "      <td>0.010878</td>\n",
       "      <td>0.150</td>\n",
       "      <td>0.001</td>\n",
       "    </tr>\n",
       "    <tr>\n",
       "      <th>LassoRegression</th>\n",
       "      <td>-1.634780</td>\n",
       "      <td>-2.166315</td>\n",
       "      <td>-0.000018</td>\n",
       "      <td>0.177</td>\n",
       "      <td>0.001</td>\n",
       "    </tr>\n",
       "    <tr>\n",
       "      <th>LinearRegression</th>\n",
       "      <td>-1.603053</td>\n",
       "      <td>-2.130915</td>\n",
       "      <td>0.107324</td>\n",
       "      <td>0.184</td>\n",
       "      <td>0.001</td>\n",
       "    </tr>\n",
       "    <tr>\n",
       "      <th>XGBoostRegression</th>\n",
       "      <td>-1.581722</td>\n",
       "      <td>-2.086596</td>\n",
       "      <td>0.153208</td>\n",
       "      <td>2.554</td>\n",
       "      <td>0.001</td>\n",
       "    </tr>\n",
       "    <tr>\n",
       "      <th>RandomForest</th>\n",
       "      <td>-1.600478</td>\n",
       "      <td>-2.122782</td>\n",
       "      <td>0.106647</td>\n",
       "      <td>4.160</td>\n",
       "      <td>0.002</td>\n",
       "    </tr>\n",
       "    <tr>\n",
       "      <th>MultilayerPerceptron</th>\n",
       "      <td>-1.598176</td>\n",
       "      <td>-2.118952</td>\n",
       "      <td>0.120684</td>\n",
       "      <td>6.375</td>\n",
       "      <td>0.001</td>\n",
       "    </tr>\n",
       "    <tr>\n",
       "      <th>SklearnGPRegressor</th>\n",
       "      <td>-1.598109</td>\n",
       "      <td>-2.121805</td>\n",
       "      <td>0.123206</td>\n",
       "      <td>103.987</td>\n",
       "      <td>0.003</td>\n",
       "    </tr>\n",
       "  </tbody>\n",
       "</table>\n",
       "</div>"
      ],
      "text/plain": [
       "                      neg_mean_absolute_error  neg_root_mean_squared_error  \\\n",
       "LeastAngleRegression                -1.603053                    -2.130915   \n",
       "ElasticNetRegression                -1.633376                    -2.164626   \n",
       "LassoRegression                     -1.634780                    -2.166315   \n",
       "LinearRegression                    -1.603053                    -2.130915   \n",
       "XGBoostRegression                   -1.581722                    -2.086596   \n",
       "RandomForest                        -1.600478                    -2.122782   \n",
       "MultilayerPerceptron                -1.598176                    -2.118952   \n",
       "SklearnGPRegressor                  -1.598109                    -2.121805   \n",
       "\n",
       "                            r2  model_fit_time  model_predict_time  \n",
       "LeastAngleRegression  0.107324           0.108               0.001  \n",
       "ElasticNetRegression  0.010878           0.150               0.001  \n",
       "LassoRegression      -0.000018           0.177               0.001  \n",
       "LinearRegression      0.107324           0.184               0.001  \n",
       "XGBoostRegression     0.153208           2.554               0.001  \n",
       "RandomForest          0.106647           4.160               0.002  \n",
       "MultilayerPerceptron  0.120684           6.375               0.001  \n",
       "SklearnGPRegressor    0.123206         103.987               0.003  "
      ]
     },
     "execution_count": 10,
     "metadata": {},
     "output_type": "execute_result"
    }
   ],
   "source": [
    "scores"
   ]
  },
  {
   "cell_type": "code",
   "execution_count": 11,
   "id": "229126e9-3826-4e02-8df5-a3e0abb25b17",
   "metadata": {},
   "outputs": [
    {
     "data": {
      "text/plain": [
       "{'ElasticNetRegression': TransformedTargetRegressor(regressor=Pipeline(steps=[('scaler',\n",
       "                                                       StandardScaler()),\n",
       "                                                      ('model', ElasticNet())]),\n",
       "                            transformer=StandardScaler()),\n",
       " 'LeastAngleRegression': TransformedTargetRegressor(regressor=Pipeline(steps=[('scaler',\n",
       "                                                       StandardScaler()),\n",
       "                                                      ('model', Lars())]),\n",
       "                            transformer=StandardScaler()),\n",
       " 'LassoRegression': TransformedTargetRegressor(regressor=Pipeline(steps=[('scaler',\n",
       "                                                       StandardScaler()),\n",
       "                                                      ('model', Lasso())]),\n",
       "                            transformer=StandardScaler()),\n",
       " 'LinearRegression': TransformedTargetRegressor(regressor=Pipeline(steps=[('scaler',\n",
       "                                                       StandardScaler()),\n",
       "                                                      ('model',\n",
       "                                                       LinearRegression())]),\n",
       "                            transformer=StandardScaler()),\n",
       " 'SklearnGPRegressor': TransformedTargetRegressor(regressor=Pipeline(steps=[('scaler',\n",
       "                                                       StandardScaler()),\n",
       "                                                      ('model',\n",
       "                                                       SklearnGPRegressor(num_inducing=100,\n",
       "                                                                          num_latents=3))]),\n",
       "                            transformer=StandardScaler()),\n",
       " 'RandomForest': TransformedTargetRegressor(regressor=Pipeline(steps=[('scaler',\n",
       "                                                       StandardScaler()),\n",
       "                                                      ('model',\n",
       "                                                       RandomForestRegressor(max_depth=5,\n",
       "                                                                             max_samples=10000,\n",
       "                                                                             n_estimators=50))]),\n",
       "                            transformer=StandardScaler()),\n",
       " 'MultilayerPerceptron': TransformedTargetRegressor(regressor=Pipeline(steps=[('scaler',\n",
       "                                                       StandardScaler()),\n",
       "                                                      ('model',\n",
       "                                                       MLPRegressor(hidden_layer_sizes=10,\n",
       "                                                                    max_iter=50))]),\n",
       "                            transformer=StandardScaler()),\n",
       " 'XGBoostRegression': TransformedTargetRegressor(regressor=Pipeline(steps=[('scaler',\n",
       "                                                       StandardScaler()),\n",
       "                                                      ('model',\n",
       "                                                       XGBRegressor(base_score=None,\n",
       "                                                                    booster=None,\n",
       "                                                                    callbacks=None,\n",
       "                                                                    colsample_bylevel=None,\n",
       "                                                                    colsample_bynode=None,\n",
       "                                                                    colsample_bytree=None,\n",
       "                                                                    device=None,\n",
       "                                                                    early_stopping_rounds=None,\n",
       "                                                                    enable_categorical=False,\n",
       "                                                                    eval_metric=None,\n",
       "                                                                    feature_types=None,\n",
       "                                                                    feature_weights=None,\n",
       "                                                                    gamma=None,\n",
       "                                                                    grow...None,\n",
       "                                                                    importance_type=None,\n",
       "                                                                    interaction_constraints=None,\n",
       "                                                                    learning_rate=None,\n",
       "                                                                    max_bin=None,\n",
       "                                                                    max_cat_threshold=None,\n",
       "                                                                    max_cat_to_onehot=None,\n",
       "                                                                    max_delta_step=None,\n",
       "                                                                    max_depth=10,\n",
       "                                                                    max_leaves=None,\n",
       "                                                                    min_child_weight=None,\n",
       "                                                                    missing=nan,\n",
       "                                                                    monotone_constraints=None,\n",
       "                                                                    multi_strategy=None,\n",
       "                                                                    n_estimators=10,\n",
       "                                                                    n_jobs=None,\n",
       "                                                                    num_parallel_tree=None, ...))]),\n",
       "                            transformer=StandardScaler())}"
      ]
     },
     "execution_count": 11,
     "metadata": {},
     "output_type": "execute_result"
    }
   ],
   "source": [
    "models"
   ]
  },
  {
   "cell_type": "code",
   "execution_count": 12,
   "id": "5219d08b-63be-43b5-a863-f8f25f2ff92c",
   "metadata": {},
   "outputs": [
    {
     "name": "stderr",
     "output_type": "stream",
     "text": [
      "INFO:fowt_ml.pipeline:Logging experiment to MLflow with id 542351623230069078\n",
      "2025/10/23 11:11:51 WARNING mlflow.utils.requirements_utils: The following packages were not found in the public PyPI package index as of 2025-04-15; if these packages are not present in the public PyPI index, you must install them manually before loading your model: {'fowt-ml'}\n",
      "INFO:fowt_ml.pipeline:Saving grid scores to grid_scores.csv\n",
      "INFO:fowt_ml.pipeline:Saving best model to joblib format in best_model.joblib\n"
     ]
    }
   ],
   "source": [
    "# compare models using cross_validation\n",
    "models, scores = my_pipeline.compare_models(sort=\"model_predict_time\", cross_validation=True)"
   ]
  },
  {
   "cell_type": "code",
   "execution_count": 13,
   "id": "1b865d43-c728-46e8-aa0d-f6811b12155c",
   "metadata": {},
   "outputs": [
    {
     "data": {
      "text/html": [
       "<div>\n",
       "<style scoped>\n",
       "    .dataframe tbody tr th:only-of-type {\n",
       "        vertical-align: middle;\n",
       "    }\n",
       "\n",
       "    .dataframe tbody tr th {\n",
       "        vertical-align: top;\n",
       "    }\n",
       "\n",
       "    .dataframe thead th {\n",
       "        text-align: right;\n",
       "    }\n",
       "</style>\n",
       "<table border=\"1\" class=\"dataframe\">\n",
       "  <thead>\n",
       "    <tr style=\"text-align: right;\">\n",
       "      <th></th>\n",
       "      <th>model_fit_time</th>\n",
       "      <th>neg_mean_absolute_error</th>\n",
       "      <th>neg_root_mean_squared_error</th>\n",
       "      <th>r2</th>\n",
       "      <th>model_predict_time</th>\n",
       "    </tr>\n",
       "  </thead>\n",
       "  <tbody>\n",
       "    <tr>\n",
       "      <th>LeastAngleRegression</th>\n",
       "      <td>0.114667</td>\n",
       "      <td>-1.607105</td>\n",
       "      <td>-2.138814</td>\n",
       "      <td>0.108090</td>\n",
       "      <td>0.001000</td>\n",
       "    </tr>\n",
       "    <tr>\n",
       "      <th>LinearRegression</th>\n",
       "      <td>0.151000</td>\n",
       "      <td>-1.607105</td>\n",
       "      <td>-2.138814</td>\n",
       "      <td>0.108090</td>\n",
       "      <td>0.001000</td>\n",
       "    </tr>\n",
       "    <tr>\n",
       "      <th>MultilayerPerceptron</th>\n",
       "      <td>5.909000</td>\n",
       "      <td>-1.602276</td>\n",
       "      <td>-2.126795</td>\n",
       "      <td>0.121668</td>\n",
       "      <td>0.001000</td>\n",
       "    </tr>\n",
       "    <tr>\n",
       "      <th>XGBoostRegression</th>\n",
       "      <td>1.999333</td>\n",
       "      <td>-1.590279</td>\n",
       "      <td>-2.101709</td>\n",
       "      <td>0.146525</td>\n",
       "      <td>0.001333</td>\n",
       "    </tr>\n",
       "    <tr>\n",
       "      <th>ElasticNetRegression</th>\n",
       "      <td>0.162667</td>\n",
       "      <td>-1.637038</td>\n",
       "      <td>-2.172412</td>\n",
       "      <td>0.011023</td>\n",
       "      <td>0.001667</td>\n",
       "    </tr>\n",
       "    <tr>\n",
       "      <th>LassoRegression</th>\n",
       "      <td>0.394000</td>\n",
       "      <td>-1.638445</td>\n",
       "      <td>-2.174126</td>\n",
       "      <td>-0.000018</td>\n",
       "      <td>0.002667</td>\n",
       "    </tr>\n",
       "    <tr>\n",
       "      <th>RandomForest</th>\n",
       "      <td>4.104667</td>\n",
       "      <td>-1.604850</td>\n",
       "      <td>-2.131100</td>\n",
       "      <td>0.107288</td>\n",
       "      <td>0.002667</td>\n",
       "    </tr>\n",
       "    <tr>\n",
       "      <th>SklearnGPRegressor</th>\n",
       "      <td>70.743667</td>\n",
       "      <td>-1.602289</td>\n",
       "      <td>-2.130473</td>\n",
       "      <td>0.123055</td>\n",
       "      <td>0.003333</td>\n",
       "    </tr>\n",
       "  </tbody>\n",
       "</table>\n",
       "</div>"
      ],
      "text/plain": [
       "                      model_fit_time  neg_mean_absolute_error  \\\n",
       "LeastAngleRegression        0.114667                -1.607105   \n",
       "LinearRegression            0.151000                -1.607105   \n",
       "MultilayerPerceptron        5.909000                -1.602276   \n",
       "XGBoostRegression           1.999333                -1.590279   \n",
       "ElasticNetRegression        0.162667                -1.637038   \n",
       "LassoRegression             0.394000                -1.638445   \n",
       "RandomForest                4.104667                -1.604850   \n",
       "SklearnGPRegressor         70.743667                -1.602289   \n",
       "\n",
       "                      neg_root_mean_squared_error        r2  \\\n",
       "LeastAngleRegression                    -2.138814  0.108090   \n",
       "LinearRegression                        -2.138814  0.108090   \n",
       "MultilayerPerceptron                    -2.126795  0.121668   \n",
       "XGBoostRegression                       -2.101709  0.146525   \n",
       "ElasticNetRegression                    -2.172412  0.011023   \n",
       "LassoRegression                         -2.174126 -0.000018   \n",
       "RandomForest                            -2.131100  0.107288   \n",
       "SklearnGPRegressor                      -2.130473  0.123055   \n",
       "\n",
       "                      model_predict_time  \n",
       "LeastAngleRegression            0.001000  \n",
       "LinearRegression                0.001000  \n",
       "MultilayerPerceptron            0.001000  \n",
       "XGBoostRegression               0.001333  \n",
       "ElasticNetRegression            0.001667  \n",
       "LassoRegression                 0.002667  \n",
       "RandomForest                    0.002667  \n",
       "SklearnGPRegressor              0.003333  "
      ]
     },
     "execution_count": 13,
     "metadata": {},
     "output_type": "execute_result"
    }
   ],
   "source": [
    "scores"
   ]
  },
  {
   "cell_type": "code",
   "execution_count": null,
   "id": "4034e7b0-f050-4c6b-84f7-806c4388bee3",
   "metadata": {},
   "outputs": [],
   "source": []
  }
 ],
 "metadata": {
  "kernelspec": {
   "display_name": "Python 3 (ipykernel)",
   "language": "python",
   "name": "python3"
  },
  "language_info": {
   "codemirror_mode": {
    "name": "ipython",
    "version": 3
   },
   "file_extension": ".py",
   "mimetype": "text/x-python",
   "name": "python",
   "nbconvert_exporter": "python",
   "pygments_lexer": "ipython3",
   "version": "3.11.11"
  }
 },
 "nbformat": 4,
 "nbformat_minor": 5
}
